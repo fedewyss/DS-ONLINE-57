{
 "cells": [
  {
   "cell_type": "markdown",
   "metadata": {},
   "source": [
    "### Construir dataset desde Txt\n",
    "\n",
    "* *pasos* \n",
    "\n",
    "* 1- me fijo cómo identificar las películas vs usuarios\n",
    "* 2- crear del len(df1) un vector con todas las movieids para poder concatenarlo\n",
    "* 3- Para eso necesito tener una cantidad de iteraciones que corresponde a la cantidad de usuarios que puntuan una pelicula.\n",
    "\n",
    "Es decir si tengo \n",
    "\n",
    "\"volver al futuro\":\n",
    "* usuario 1: 5\n",
    "* usuario 2: 6\n",
    "* usuario 3: 7\n",
    "\n",
    "voy a querer que al lado de cada uno de los usuarios diga \"volver al futuro\". Voy a necesitar contar que cantidad de usuarios hay y poder concatenar el id_movie por esas cantidades y crear un vector del mismo tamaño del dataset original para después apendearlo"
   ]
  },
  {
   "cell_type": "code",
   "execution_count": 3,
   "metadata": {},
   "outputs": [],
   "source": [
    "\n",
    "import pandas as pd\n",
    "import numpy as np\n",
    "import matplotlib.pyplot as plt\n",
    "import seaborn as sns\n",
    "sns.set()\n"
   ]
  },
  {
   "cell_type": "code",
   "execution_count": 4,
   "metadata": {},
   "outputs": [],
   "source": [
    "import gc #garbage collector\n",
    "from playsound import playsound\n",
    "#!pip install playsound\n",
    "\n",
    "import time\n",
    "start_time = time.time()"
   ]
  },
  {
   "cell_type": "code",
   "execution_count": 5,
   "metadata": {},
   "outputs": [
    {
     "output_type": "stream",
     "name": "stdout",
     "text": [
      "README\n",
      "combined_data_1.txt\n",
      "combined_data_1_with_movie_id.csv\n",
      "combined_data_2.txt\n",
      "combined_data_3.txt\n",
      "combined_data_4.txt\n",
      "movie_titles.csv\n",
      "probe.txt\n",
      "qualifying.txt\n"
     ]
    }
   ],
   "source": [
    "!ls ../data/netflix-prize-data"
   ]
  },
  {
   "cell_type": "code",
   "execution_count": 6,
   "metadata": {},
   "outputs": [],
   "source": [
    "netflix = \"..//data//netflix-prize-data//\"\n",
    "figures = \"..//figures//\""
   ]
  },
  {
   "cell_type": "markdown",
   "metadata": {},
   "source": [
    "# mostrar error\n",
    "# with open(netflix + \"movie_titles.csv\") as f:\n",
    "   # print(f)"
   ]
  },
  {
   "cell_type": "code",
   "execution_count": 7,
   "metadata": {},
   "outputs": [
    {
     "output_type": "stream",
     "name": "stdout",
     "text": [
      "<_io.TextIOWrapper name='..//data//netflix-prize-data//movie_titles.csv' mode='r' encoding='cp1252'>\n"
     ]
    }
   ],
   "source": [
    "with open(netflix + \"movie_titles.csv\") as f:\n",
    "    print(f)\n",
    "    #for i in range(10):\n",
    "    #    print(f.readline())"
   ]
  },
  {
   "cell_type": "markdown",
   "metadata": {},
   "source": [
    "# Mostrar txt\n",
    "# command line vs folder"
   ]
  },
  {
   "cell_type": "code",
   "execution_count": 8,
   "metadata": {
    "scrolled": true
   },
   "outputs": [
    {
     "output_type": "stream",
     "name": "stdout",
     "text": [
      "(24058263, 2)\nWall time: 31.9 s\n"
     ]
    }
   ],
   "source": [
    "%%time\n",
    "def load_data(name):\n",
    "    df = pd.read_csv(name, header = None, names = ['User','Rating'], usecols = [0,1], encoding='cp1252')\n",
    "    return df\n",
    "\n",
    "df1 = load_data(netflix + 'combined_data_1.txt')\n",
    "print(df1.shape)"
   ]
  },
  {
   "cell_type": "code",
   "execution_count": 9,
   "metadata": {},
   "outputs": [
    {
     "output_type": "execute_result",
     "data": {
      "text/plain": [
       "      User  Rating\n",
       "0       1:     NaN\n",
       "1  1488844     3.0\n",
       "2   822109     5.0\n",
       "3   885013     4.0\n",
       "4    30878     4.0"
      ],
      "text/html": "<div>\n<style scoped>\n    .dataframe tbody tr th:only-of-type {\n        vertical-align: middle;\n    }\n\n    .dataframe tbody tr th {\n        vertical-align: top;\n    }\n\n    .dataframe thead th {\n        text-align: right;\n    }\n</style>\n<table border=\"1\" class=\"dataframe\">\n  <thead>\n    <tr style=\"text-align: right;\">\n      <th></th>\n      <th>User</th>\n      <th>Rating</th>\n    </tr>\n  </thead>\n  <tbody>\n    <tr>\n      <th>0</th>\n      <td>1:</td>\n      <td>NaN</td>\n    </tr>\n    <tr>\n      <th>1</th>\n      <td>1488844</td>\n      <td>3.0</td>\n    </tr>\n    <tr>\n      <th>2</th>\n      <td>822109</td>\n      <td>5.0</td>\n    </tr>\n    <tr>\n      <th>3</th>\n      <td>885013</td>\n      <td>4.0</td>\n    </tr>\n    <tr>\n      <th>4</th>\n      <td>30878</td>\n      <td>4.0</td>\n    </tr>\n  </tbody>\n</table>\n</div>"
     },
     "metadata": {},
     "execution_count": 9
    }
   ],
   "source": [
    "df1.head()"
   ]
  },
  {
   "cell_type": "markdown",
   "metadata": {},
   "source": [
    "# df1.Rating.isna()"
   ]
  },
  {
   "cell_type": "code",
   "execution_count": 10,
   "metadata": {},
   "outputs": [
    {
     "output_type": "execute_result",
     "data": {
      "text/plain": [
       "0            True\n",
       "1           False\n",
       "2           False\n",
       "3           False\n",
       "4           False\n",
       "            ...  \n",
       "24058258    False\n",
       "24058259    False\n",
       "24058260    False\n",
       "24058261    False\n",
       "24058262    False\n",
       "Name: Rating, Length: 24058263, dtype: bool"
      ]
     },
     "metadata": {},
     "execution_count": 10
    }
   ],
   "source": [
    "df1.Rating.isna()"
   ]
  },
  {
   "cell_type": "code",
   "execution_count": 11,
   "metadata": {},
   "outputs": [
    {
     "output_type": "execute_result",
     "data": {
      "text/plain": [
       "4499"
      ]
     },
     "metadata": {},
     "execution_count": 11
    }
   ],
   "source": [
    "len(df1[df1.Rating.isna()==True])"
   ]
  },
  {
   "cell_type": "code",
   "execution_count": 12,
   "metadata": {},
   "outputs": [
    {
     "output_type": "execute_result",
     "data": {
      "text/plain": [
       "array(['1:', '1488844', '822109', ..., '512536', '988963', '1704416'],\n",
       "      dtype=object)"
      ]
     },
     "metadata": {},
     "execution_count": 12
    }
   ],
   "source": [
    "df1.User.values"
   ]
  },
  {
   "cell_type": "markdown",
   "metadata": {},
   "source": [
    "# print(len(df1.User[df1.Rating.isna()].values))"
   ]
  },
  {
   "cell_type": "code",
   "execution_count": 13,
   "metadata": {},
   "outputs": [
    {
     "output_type": "stream",
     "name": "stdout",
     "text": [
      "4499\n"
     ]
    }
   ],
   "source": [
    "print(len(df1.User[df1.Rating.isna()].values))"
   ]
  },
  {
   "cell_type": "markdown",
   "metadata": {},
   "source": [
    "## Titulo-ID"
   ]
  },
  {
   "cell_type": "code",
   "execution_count": 14,
   "metadata": {},
   "outputs": [
    {
     "output_type": "execute_result",
     "data": {
      "text/plain": [
       "                                  Name\n",
       "Movie_Id                              \n",
       "1                      Dinosaur Planet\n",
       "2           Isle of Man TT 2004 Review\n",
       "3                            Character\n",
       "4         Paula Abdul's Get Up & Dance\n",
       "5             The Rise and Fall of ECW"
      ],
      "text/html": "<div>\n<style scoped>\n    .dataframe tbody tr th:only-of-type {\n        vertical-align: middle;\n    }\n\n    .dataframe tbody tr th {\n        vertical-align: top;\n    }\n\n    .dataframe thead th {\n        text-align: right;\n    }\n</style>\n<table border=\"1\" class=\"dataframe\">\n  <thead>\n    <tr style=\"text-align: right;\">\n      <th></th>\n      <th>Name</th>\n    </tr>\n    <tr>\n      <th>Movie_Id</th>\n      <th></th>\n    </tr>\n  </thead>\n  <tbody>\n    <tr>\n      <th>1</th>\n      <td>Dinosaur Planet</td>\n    </tr>\n    <tr>\n      <th>2</th>\n      <td>Isle of Man TT 2004 Review</td>\n    </tr>\n    <tr>\n      <th>3</th>\n      <td>Character</td>\n    </tr>\n    <tr>\n      <th>4</th>\n      <td>Paula Abdul's Get Up &amp; Dance</td>\n    </tr>\n    <tr>\n      <th>5</th>\n      <td>The Rise and Fall of ECW</td>\n    </tr>\n  </tbody>\n</table>\n</div>"
     },
     "metadata": {},
     "execution_count": 14
    }
   ],
   "source": [
    "df_title = pd.read_csv('../data/netflix-prize-data/movie_titles.csv', encoding = \"ISO-8859-1\",index_col = 0, header = None, usecols = [0,2], names = ['Movie_Id', 'Name'])\n",
    "df_title.head()"
   ]
  },
  {
   "cell_type": "code",
   "execution_count": 15,
   "metadata": {},
   "outputs": [
    {
     "output_type": "stream",
     "name": "stdout",
     "text": [
      "Dinosaur Planet\n"
     ]
    }
   ],
   "source": [
    "movie_id = 1\n",
    "print(df_title.loc[movie_id].Name)"
   ]
  },
  {
   "cell_type": "markdown",
   "metadata": {},
   "source": [
    "# movies_ids_df1 = df1.User[df1.Rating.isna()].values"
   ]
  },
  {
   "cell_type": "code",
   "execution_count": 16,
   "metadata": {},
   "outputs": [
    {
     "output_type": "stream",
     "name": "stdout",
     "text": [
      "['1:' '2:' '3:' ... '4497:' '4498:' '4499:']\n",
      "4499\n"
     ]
    }
   ],
   "source": [
    "#notar en el head que el id de nivue esta cómo 1: y rating dice nan y el resto son ids de peliculas si no tiene : o rating no tiene nan\n",
    "movies_ids_df1 = df1.User[df1.Rating.isna()].values #me quedo con los nan como id de las movies\n",
    "print(movies_ids_df1)\n",
    "print(len(movies_ids_df1))"
   ]
  },
  {
   "cell_type": "markdown",
   "metadata": {},
   "source": [
    "#  np.arange(1,len(movies_ids_df1) + 1)"
   ]
  },
  {
   "cell_type": "code",
   "execution_count": 17,
   "metadata": {},
   "outputs": [
    {
     "output_type": "stream",
     "name": "stdout",
     "text": [
      "[   1    2    3 ... 4497 4498 4499]\n"
     ]
    }
   ],
   "source": [
    "#cambio el formato con numpy pasandolo cómo correspondiente al valor de index+1\n",
    "movies_ids_df1 = np.arange(1,len(movies_ids_df1) + 1)\n",
    "print(movies_ids_df1) #ahora tengo las ids de las movies y luego el listado de los usuarios"
   ]
  },
  {
   "source": [
    "# Crear dataset df1_nan\n",
    "# df1_nan = df1_nan[df1_nan['Rating'] == True"
   ],
   "cell_type": "markdown",
   "metadata": {}
  },
  {
   "cell_type": "code",
   "execution_count": 18,
   "metadata": {},
   "outputs": [],
   "source": [
    "##############################-----------------************* todo este bloque se hace solo para sacar los idx_movies de abajo\n",
    "#fijate que filtras los nan del rating nada más\n",
    "df1_nan = pd.DataFrame(pd.isnull(df1.Rating))\n",
    " #condicion pd.isnull , fijate que arriba lo de values lo hice solo para mostrarte y bueno definir que era el idmovies\n",
    "df1_nan = df1_nan[df1_nan['Rating'] == True] #quiero entonces trabajar sobre el datase df1"
   ]
  },
  {
   "cell_type": "code",
   "execution_count": 19,
   "metadata": {},
   "outputs": [
    {
     "output_type": "stream",
     "name": "stdout",
     "text": [
      "[       0      548      694 ... 24056849 24057564 24057834]\n"
     ]
    }
   ],
   "source": [
    "\n",
    "\n",
    "#indice\n",
    "idx_movies_ids = df1_nan.index.values\n",
    "print(idx_movies_ids) #defino los valores nulos de rating como el indice del filtro df1_nan"
   ]
  },
  {
   "cell_type": "code",
   "execution_count": 23,
   "metadata": {},
   "outputs": [
    {
     "output_type": "execute_result",
     "data": {
      "text/plain": [
       "array([       0,      548,      694, ..., 24057834, 24058263, 24058263],\n",
       "      dtype=int64)"
      ]
     },
     "metadata": {},
     "execution_count": 23
    }
   ],
   "source": [
    " np.append(idx_movies_ids,df1.shape[0])"
   ]
  },
  {
   "cell_type": "code",
   "execution_count": 25,
   "metadata": {},
   "outputs": [
    {
     "output_type": "execute_result",
     "data": {
      "text/plain": [
       "array([       0,      548,      694, ..., 24057564, 24057834, 24058263],\n",
       "      dtype=int64)"
      ]
     },
     "metadata": {},
     "execution_count": 25
    }
   ],
   "source": [
    "idx_movies_ids"
   ]
  },
  {
   "cell_type": "code",
   "execution_count": 22,
   "metadata": {},
   "outputs": [
    {
     "output_type": "execute_result",
     "data": {
      "text/plain": [
       "array([ 548,  146, 2013, ...,  715,  270,  429], dtype=int64)"
      ]
     },
     "metadata": {},
     "execution_count": 22
    }
   ],
   "source": [
    "np.diff(idx_movies_ids)"
   ]
  },
  {
   "cell_type": "code",
   "execution_count": 29,
   "metadata": {},
   "outputs": [
    {
     "output_type": "execute_result",
     "data": {
      "text/plain": [
       "24058263"
      ]
     },
     "metadata": {},
     "execution_count": 29
    }
   ],
   "source": [
    "df1.shape[0]"
   ]
  },
  {
   "cell_type": "code",
   "execution_count": 20,
   "metadata": {},
   "outputs": [
    {
     "output_type": "execute_result",
     "data": {
      "text/plain": [
       "array([ 548,  146, 2013, ...,  715,  270,  429], dtype=int64)"
      ]
     },
     "metadata": {},
     "execution_count": 20
    }
   ],
   "source": [
    "idx_movies_ids = np.append(idx_movies_ids,df1.shape[0]) #al apendearlo\n",
    "cantidad_criticas = np.diff(idx_movies_ids) #puedo tener la diferencia para contar??\n",
    "cantidad_criticas"
   ]
  },
  {
   "source": [
    "# Excel para explicar como relleno la np.array y np.full"
   ],
   "cell_type": "markdown",
   "metadata": {}
  },
  {
   "cell_type": "code",
   "execution_count": 21,
   "metadata": {},
   "outputs": [],
   "source": [
    "##estoy construyendo la matriz cantidad de criticas por película\n",
    "columna_movie_id = np.array([])\n",
    "for i in range(cantidad_criticas.size): #size cuenta las peliculas\n",
    "    aux = np.full(cantidad_criticas[i], movies_ids_df1[i]) #np.full crea una matriz compuesta entre cantidad de peliculas que saque de size y los movie id\n",
    "    columna_movie_id = np.concatenate((columna_movie_id, aux))"
   ]
  },
  {
   "cell_type": "code",
   "execution_count": 24,
   "metadata": {},
   "outputs": [
    {
     "data": {
      "text/plain": [
       "146"
      ]
     },
     "execution_count": 24,
     "metadata": {},
     "output_type": "execute_result"
    }
   ],
   "source": [
    "cantidad_criticas[1]"
   ]
  },
  {
   "cell_type": "code",
   "execution_count": 25,
   "metadata": {},
   "outputs": [
    {
     "data": {
      "text/plain": [
       "2"
      ]
     },
     "execution_count": 25,
     "metadata": {},
     "output_type": "execute_result"
    }
   ],
   "source": [
    "movies_ids_df1[1]"
   ]
  },
  {
   "cell_type": "code",
   "execution_count": 26,
   "metadata": {},
   "outputs": [
    {
     "data": {
      "text/plain": [
       "1.0"
      ]
     },
     "execution_count": 26,
     "metadata": {},
     "output_type": "execute_result"
    }
   ],
   "source": [
    "columna_movie_id[1]"
   ]
  },
  {
   "cell_type": "code",
   "execution_count": 27,
   "metadata": {
    "scrolled": true
   },
   "outputs": [
    {
     "data": {
      "text/html": [
       "<div>\n",
       "<style scoped>\n",
       "    .dataframe tbody tr th:only-of-type {\n",
       "        vertical-align: middle;\n",
       "    }\n",
       "\n",
       "    .dataframe tbody tr th {\n",
       "        vertical-align: top;\n",
       "    }\n",
       "\n",
       "    .dataframe thead th {\n",
       "        text-align: right;\n",
       "    }\n",
       "</style>\n",
       "<table border=\"1\" class=\"dataframe\">\n",
       "  <thead>\n",
       "    <tr style=\"text-align: right;\">\n",
       "      <th></th>\n",
       "      <th>User</th>\n",
       "      <th>Rating</th>\n",
       "      <th>Movie_id</th>\n",
       "    </tr>\n",
       "  </thead>\n",
       "  <tbody>\n",
       "    <tr>\n",
       "      <th>0</th>\n",
       "      <td>1:</td>\n",
       "      <td>NaN</td>\n",
       "      <td>1.0</td>\n",
       "    </tr>\n",
       "    <tr>\n",
       "      <th>1</th>\n",
       "      <td>1488844</td>\n",
       "      <td>3.0</td>\n",
       "      <td>1.0</td>\n",
       "    </tr>\n",
       "    <tr>\n",
       "      <th>2</th>\n",
       "      <td>822109</td>\n",
       "      <td>5.0</td>\n",
       "      <td>1.0</td>\n",
       "    </tr>\n",
       "    <tr>\n",
       "      <th>3</th>\n",
       "      <td>885013</td>\n",
       "      <td>4.0</td>\n",
       "      <td>1.0</td>\n",
       "    </tr>\n",
       "    <tr>\n",
       "      <th>4</th>\n",
       "      <td>30878</td>\n",
       "      <td>4.0</td>\n",
       "      <td>1.0</td>\n",
       "    </tr>\n",
       "    <tr>\n",
       "      <th>...</th>\n",
       "      <td>...</td>\n",
       "      <td>...</td>\n",
       "      <td>...</td>\n",
       "    </tr>\n",
       "    <tr>\n",
       "      <th>24058258</th>\n",
       "      <td>2591364</td>\n",
       "      <td>2.0</td>\n",
       "      <td>4499.0</td>\n",
       "    </tr>\n",
       "    <tr>\n",
       "      <th>24058259</th>\n",
       "      <td>1791000</td>\n",
       "      <td>2.0</td>\n",
       "      <td>4499.0</td>\n",
       "    </tr>\n",
       "    <tr>\n",
       "      <th>24058260</th>\n",
       "      <td>512536</td>\n",
       "      <td>5.0</td>\n",
       "      <td>4499.0</td>\n",
       "    </tr>\n",
       "    <tr>\n",
       "      <th>24058261</th>\n",
       "      <td>988963</td>\n",
       "      <td>3.0</td>\n",
       "      <td>4499.0</td>\n",
       "    </tr>\n",
       "    <tr>\n",
       "      <th>24058262</th>\n",
       "      <td>1704416</td>\n",
       "      <td>3.0</td>\n",
       "      <td>4499.0</td>\n",
       "    </tr>\n",
       "  </tbody>\n",
       "</table>\n",
       "<p>24058263 rows × 3 columns</p>\n",
       "</div>"
      ],
      "text/plain": [
       "             User  Rating  Movie_id\n",
       "0              1:     NaN       1.0\n",
       "1         1488844     3.0       1.0\n",
       "2          822109     5.0       1.0\n",
       "3          885013     4.0       1.0\n",
       "4           30878     4.0       1.0\n",
       "...           ...     ...       ...\n",
       "24058258  2591364     2.0    4499.0\n",
       "24058259  1791000     2.0    4499.0\n",
       "24058260   512536     5.0    4499.0\n",
       "24058261   988963     3.0    4499.0\n",
       "24058262  1704416     3.0    4499.0\n",
       "\n",
       "[24058263 rows x 3 columns]"
      ]
     },
     "execution_count": 27,
     "metadata": {},
     "output_type": "execute_result"
    }
   ],
   "source": [
    "df1['Movie_id'] = columna_movie_id\n",
    "df1"
   ]
  },
  {
   "cell_type": "code",
   "execution_count": 28,
   "metadata": {},
   "outputs": [],
   "source": [
    "#df1.to_csv(netflix + 'combined_data_1_with_movie_id.csv', index= False)"
   ]
  },
  {
   "cell_type": "code",
   "execution_count": 30,
   "metadata": {},
   "outputs": [
    {
     "name": "stdout",
     "output_type": "stream",
     "text": [
      "--- 382.0550515651703 segundos---\n"
     ]
    },
    {
     "data": {
      "text/plain": [
       "20"
      ]
     },
     "execution_count": 30,
     "metadata": {},
     "output_type": "execute_result"
    }
   ],
   "source": [
    "print(\"--- %s segundos---\" % (time.time() - start_time))\n",
    "gc.collect()"
   ]
  },
  {
   "cell_type": "code",
   "execution_count": 31,
   "metadata": {},
   "outputs": [],
   "source": [
    "playsound(figures+\"war.mp3\")\n"
   ]
  },
  {
   "cell_type": "code",
   "execution_count": null,
   "metadata": {},
   "outputs": [],
   "source": []
  },
  {
   "cell_type": "code",
   "execution_count": 16,
   "metadata": {},
   "outputs": [],
   "source": [
    "df1 = pd.read_csv(netflix + 'combined_data_1_with_movie_id.csv', dtype={'Rating': np.int8, 'movie_id': np.int16})\n"
   ]
  },
  {
   "cell_type": "code",
   "execution_count": 17,
   "metadata": {},
   "outputs": [
    {
     "data": {
      "text/html": [
       "<div>\n",
       "<style scoped>\n",
       "    .dataframe tbody tr th:only-of-type {\n",
       "        vertical-align: middle;\n",
       "    }\n",
       "\n",
       "    .dataframe tbody tr th {\n",
       "        vertical-align: top;\n",
       "    }\n",
       "\n",
       "    .dataframe thead th {\n",
       "        text-align: right;\n",
       "    }\n",
       "</style>\n",
       "<table border=\"1\" class=\"dataframe\">\n",
       "  <thead>\n",
       "    <tr style=\"text-align: right;\">\n",
       "      <th></th>\n",
       "      <th>User</th>\n",
       "      <th>Rating</th>\n",
       "      <th>Movie_id</th>\n",
       "    </tr>\n",
       "  </thead>\n",
       "  <tbody>\n",
       "    <tr>\n",
       "      <th>0</th>\n",
       "      <td>1488844</td>\n",
       "      <td>3</td>\n",
       "      <td>1</td>\n",
       "    </tr>\n",
       "    <tr>\n",
       "      <th>1</th>\n",
       "      <td>822109</td>\n",
       "      <td>5</td>\n",
       "      <td>1</td>\n",
       "    </tr>\n",
       "    <tr>\n",
       "      <th>2</th>\n",
       "      <td>885013</td>\n",
       "      <td>4</td>\n",
       "      <td>1</td>\n",
       "    </tr>\n",
       "    <tr>\n",
       "      <th>3</th>\n",
       "      <td>30878</td>\n",
       "      <td>4</td>\n",
       "      <td>1</td>\n",
       "    </tr>\n",
       "    <tr>\n",
       "      <th>4</th>\n",
       "      <td>823519</td>\n",
       "      <td>3</td>\n",
       "      <td>1</td>\n",
       "    </tr>\n",
       "  </tbody>\n",
       "</table>\n",
       "</div>"
      ],
      "text/plain": [
       "      User  Rating  Movie_id\n",
       "0  1488844       3         1\n",
       "1   822109       5         1\n",
       "2   885013       4         1\n",
       "3    30878       4         1\n",
       "4   823519       3         1"
      ]
     },
     "execution_count": 17,
     "metadata": {},
     "output_type": "execute_result"
    }
   ],
   "source": [
    "df1.head()"
   ]
  },
  {
   "cell_type": "code",
   "execution_count": 23,
   "metadata": {},
   "outputs": [],
   "source": [
    "long_tail = pd.DataFrame()"
   ]
  },
  {
   "cell_type": "code",
   "execution_count": 28,
   "metadata": {},
   "outputs": [
    {
     "data": {
      "text/html": [
       "<div>\n",
       "<style scoped>\n",
       "    .dataframe tbody tr th:only-of-type {\n",
       "        vertical-align: middle;\n",
       "    }\n",
       "\n",
       "    .dataframe tbody tr th {\n",
       "        vertical-align: top;\n",
       "    }\n",
       "\n",
       "    .dataframe thead tr th {\n",
       "        text-align: left;\n",
       "    }\n",
       "\n",
       "    .dataframe thead tr:last-of-type th {\n",
       "        text-align: right;\n",
       "    }\n",
       "</style>\n",
       "<table border=\"1\" class=\"dataframe\">\n",
       "  <thead>\n",
       "    <tr>\n",
       "      <th></th>\n",
       "      <th colspan=\"2\" halign=\"left\">Rating</th>\n",
       "    </tr>\n",
       "    <tr>\n",
       "      <th></th>\n",
       "      <th>size</th>\n",
       "      <th>mean</th>\n",
       "    </tr>\n",
       "    <tr>\n",
       "      <th>Movie_id</th>\n",
       "      <th></th>\n",
       "      <th></th>\n",
       "    </tr>\n",
       "  </thead>\n",
       "  <tbody>\n",
       "    <tr>\n",
       "      <th>1</th>\n",
       "      <td>547</td>\n",
       "      <td>3.749543</td>\n",
       "    </tr>\n",
       "    <tr>\n",
       "      <th>2</th>\n",
       "      <td>145</td>\n",
       "      <td>3.558621</td>\n",
       "    </tr>\n",
       "    <tr>\n",
       "      <th>3</th>\n",
       "      <td>2012</td>\n",
       "      <td>3.641153</td>\n",
       "    </tr>\n",
       "    <tr>\n",
       "      <th>4</th>\n",
       "      <td>142</td>\n",
       "      <td>2.739437</td>\n",
       "    </tr>\n",
       "    <tr>\n",
       "      <th>5</th>\n",
       "      <td>1140</td>\n",
       "      <td>3.919298</td>\n",
       "    </tr>\n",
       "    <tr>\n",
       "      <th>...</th>\n",
       "      <td>...</td>\n",
       "      <td>...</td>\n",
       "    </tr>\n",
       "    <tr>\n",
       "      <th>4495</th>\n",
       "      <td>614</td>\n",
       "      <td>3.478827</td>\n",
       "    </tr>\n",
       "    <tr>\n",
       "      <th>4496</th>\n",
       "      <td>9519</td>\n",
       "      <td>3.763000</td>\n",
       "    </tr>\n",
       "    <tr>\n",
       "      <th>4497</th>\n",
       "      <td>714</td>\n",
       "      <td>2.715686</td>\n",
       "    </tr>\n",
       "    <tr>\n",
       "      <th>4498</th>\n",
       "      <td>269</td>\n",
       "      <td>2.464684</td>\n",
       "    </tr>\n",
       "    <tr>\n",
       "      <th>4499</th>\n",
       "      <td>428</td>\n",
       "      <td>2.614486</td>\n",
       "    </tr>\n",
       "  </tbody>\n",
       "</table>\n",
       "<p>4499 rows × 2 columns</p>\n",
       "</div>"
      ],
      "text/plain": [
       "         Rating          \n",
       "           size      mean\n",
       "Movie_id                 \n",
       "1           547  3.749543\n",
       "2           145  3.558621\n",
       "3          2012  3.641153\n",
       "4           142  2.739437\n",
       "5          1140  3.919298\n",
       "...         ...       ...\n",
       "4495        614  3.478827\n",
       "4496       9519  3.763000\n",
       "4497        714  2.715686\n",
       "4498        269  2.464684\n",
       "4499        428  2.614486\n",
       "\n",
       "[4499 rows x 2 columns]"
      ]
     },
     "execution_count": 28,
     "metadata": {},
     "output_type": "execute_result"
    }
   ],
   "source": [
    "long_tail = df1.groupby('Movie_id').agg({'Rating': [np.size, np.mean]})\n",
    "long_tail"
   ]
  },
  {
   "cell_type": "code",
   "execution_count": null,
   "metadata": {},
   "outputs": [],
   "source": []
  }
 ],
 "metadata": {
  "kernelspec": {
   "display_name": "Python 3",
   "language": "python",
   "name": "python3"
  },
  "language_info": {
   "codemirror_mode": {
    "name": "ipython",
    "version": 3
   },
   "file_extension": ".py",
   "mimetype": "text/x-python",
   "name": "python",
   "nbconvert_exporter": "python",
   "pygments_lexer": "ipython3",
   "version": "3.7.9-final"
  }
 },
 "nbformat": 4,
 "nbformat_minor": 4
}