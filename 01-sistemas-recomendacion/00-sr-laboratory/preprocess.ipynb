{
 "cells": [
  {
   "cell_type": "code",
   "execution_count": 1,
   "metadata": {},
   "outputs": [],
   "source": [
    "#hints\n",
    "#movies_ids, ratings nan. values\n",
    "#pasar el 1: a entero con np.arange(1,len(movies_ids_df1) + 1)\n",
    "#filtrar el dataset de nans (ya con enteros)\n",
    "#moverlo al index a los valores de los ids de las películas"
   ]
  },
  {
   "cell_type": "code",
   "execution_count": null,
   "metadata": {},
   "outputs": [],
   "source": [
    "#segunda parte\n",
    "#idx_movies_ids = np.append(idx_movies_ids,df1.shape[0]) #al apendearlo\n",
    "#cantidad_criticas = np.diff(idx_movies_ids) #puedo tener la diferencia para contar??"
   ]
  },
  {
   "cell_type": "code",
   "execution_count": null,
   "metadata": {},
   "outputs": [],
   "source": [
    "#columna_movie_id = np.array([])\n",
    "#for i in range(cantidad_criticas.size):\n",
    "    #aux = np.full(cantidad_criticas[i], movies_ids_df1[i])\n",
    "    #columna_movie_id = np.concatenate((columna_movie_id, aux))"
   ]
  }
 ],
 "metadata": {
  "kernelspec": {
   "display_name": "Python 3",
   "language": "python",
   "name": "python3"
  },
  "language_info": {
   "codemirror_mode": {
    "name": "ipython",
    "version": 3
   },
   "file_extension": ".py",
   "mimetype": "text/x-python",
   "name": "python",
   "nbconvert_exporter": "python",
   "pygments_lexer": "ipython3",
   "version": "3.7.9"
  }
 },
 "nbformat": 4,
 "nbformat_minor": 4
}
