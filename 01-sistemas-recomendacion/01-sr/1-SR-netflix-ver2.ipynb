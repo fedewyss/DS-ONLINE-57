{
 "cells": [
  {
   "cell_type": "code",
   "execution_count": 45,
   "metadata": {},
   "outputs": [],
   "source": [
    "import numpy as np\n",
    "import matplotlib.pyplot as plt\n",
    "import seaborn as sns\n",
    "sns.set()\n",
    "\n",
    "import pandas as pd\n",
    "\n",
    "import gc #garbage collector\n",
    "import warnings\n",
    "warnings.filterwarnings('ignore')\n"
   ]
  },
  {
   "cell_type": "code",
   "execution_count": 46,
   "metadata": {},
   "outputs": [],
   "source": [
    "import gc #garbage collector\n",
    "from playsound import playsound\n",
    "#!pip install playsound\n",
    "\n",
    "import time\n",
    "\n",
    "start_time = time.time()"
   ]
  },
  {
   "cell_type": "code",
   "execution_count": 47,
   "metadata": {},
   "outputs": [],
   "source": [
    "path_data = \"..\\\\data\\\\\"\n",
    "figures = \"..\\\\figures\\\\\"\n",
    "netflix = \"..\\\\data\\\\netflix-prize-data\\\\\""
   ]
  },
  {
   "cell_type": "markdown",
   "metadata": {},
   "source": [
    "### Lectura del dataset User-Rating-movieid"
   ]
  },
  {
   "cell_type": "code",
   "execution_count": 48,
   "metadata": {},
   "outputs": [
    {
     "output_type": "stream",
     "name": "stdout",
     "text": [
      "Wall time: 10.2 s\n"
     ]
    }
   ],
   "source": [
    "%%time\n",
    "df1 = pd.read_csv(netflix + 'combined_data_1_with_movie_id.csv', dtype={'Rating': np.int8, 'movie_id': np.int16})\n"
   ]
  },
  {
   "cell_type": "code",
   "execution_count": 49,
   "metadata": {},
   "outputs": [
    {
     "output_type": "stream",
     "name": "stdout",
     "text": [
      "(24053764, 3)\n"
     ]
    },
    {
     "output_type": "execute_result",
     "data": {
      "text/plain": [
       "      User  Rating  Movie_id\n",
       "0  1488844       3         1\n",
       "1   822109       5         1\n",
       "2   885013       4         1\n",
       "3    30878       4         1\n",
       "4   823519       3         1"
      ],
      "text/html": "<div>\n<style scoped>\n    .dataframe tbody tr th:only-of-type {\n        vertical-align: middle;\n    }\n\n    .dataframe tbody tr th {\n        vertical-align: top;\n    }\n\n    .dataframe thead th {\n        text-align: right;\n    }\n</style>\n<table border=\"1\" class=\"dataframe\">\n  <thead>\n    <tr style=\"text-align: right;\">\n      <th></th>\n      <th>User</th>\n      <th>Rating</th>\n      <th>Movie_id</th>\n    </tr>\n  </thead>\n  <tbody>\n    <tr>\n      <th>0</th>\n      <td>1488844</td>\n      <td>3</td>\n      <td>1</td>\n    </tr>\n    <tr>\n      <th>1</th>\n      <td>822109</td>\n      <td>5</td>\n      <td>1</td>\n    </tr>\n    <tr>\n      <th>2</th>\n      <td>885013</td>\n      <td>4</td>\n      <td>1</td>\n    </tr>\n    <tr>\n      <th>3</th>\n      <td>30878</td>\n      <td>4</td>\n      <td>1</td>\n    </tr>\n    <tr>\n      <th>4</th>\n      <td>823519</td>\n      <td>3</td>\n      <td>1</td>\n    </tr>\n  </tbody>\n</table>\n</div>"
     },
     "metadata": {},
     "execution_count": 49
    }
   ],
   "source": [
    "print(df1.shape)\n",
    "df1.head()"
   ]
  },
  {
   "source": [
    "# df1.User.value_counts().nlargest(5) "
   ],
   "cell_type": "markdown",
   "metadata": {}
  },
  {
   "cell_type": "code",
   "execution_count": 50,
   "metadata": {},
   "outputs": [
    {
     "output_type": "execute_result",
     "data": {
      "text/plain": [
       "305344     4467\n",
       "387418     4422\n",
       "2439493    4195\n",
       "1664010    4019\n",
       "2118461    3769\n",
       "Name: User, dtype: int64"
      ]
     },
     "metadata": {},
     "execution_count": 50
    }
   ],
   "source": [
    "df1.User.value_counts().nlargest(5) "
   ]
  },
  {
   "cell_type": "code",
   "execution_count": 51,
   "metadata": {},
   "outputs": [
    {
     "output_type": "execute_result",
     "data": {
      "text/plain": [
       "2547574    1\n",
       "1839857    1\n",
       "1457200    1\n",
       "2170088    1\n",
       "1610759    1\n",
       "Name: User, dtype: int64"
      ]
     },
     "metadata": {},
     "execution_count": 51
    }
   ],
   "source": [
    "df1.User.value_counts().nsmallest(5)"
   ]
  },
  {
   "source": [
    "# np.logical_or\n",
    "```\n",
    "x = np.arange(5)\n",
    "np.logical_xor(x < 1, x > 3)\n",
    "array([ True, False, False, False,  True])\n",
    "```\n",
    "alt96\n",
    "\n",
    "```\n",
    "x = np.arange(5)\n",
    "np.logical_and(x>1, x<4)\n",
    "array([False, False,  True,  True, False])\n",
    "```"
   ],
   "cell_type": "markdown",
   "metadata": {}
  },
  {
   "cell_type": "code",
   "execution_count": 52,
   "metadata": {},
   "outputs": [],
   "source": [
    "#vamos a descartar aquellos usuarios que califican poco o mucho\n",
    "#Condicion de filtro {{¨´´´¨¨¨¨**¨*¨¨}}\n",
    "mask_usuarios_descartables = np.logical_or(df1.User.value_counts() <=5, df1.User.value_counts() > 100)"
   ]
  },
  {
   "source": [
    "# mask_usuarios_descartables[mask_usuarios_descartables].index.values"
   ],
   "cell_type": "markdown",
   "metadata": {}
  },
  {
   "cell_type": "code",
   "execution_count": 53,
   "metadata": {},
   "outputs": [],
   "source": [
    "#Filtro aplicado y llevado a index\n",
    "usuarios_descartables = mask_usuarios_descartables[mask_usuarios_descartables].index.values"
   ]
  },
  {
   "source": [
    "## mascara_descartables = df1.User.isin(usuarios_descartables)\n"
   ],
   "cell_type": "markdown",
   "metadata": {}
  },
  {
   "cell_type": "code",
   "execution_count": 54,
   "metadata": {},
   "outputs": [],
   "source": [
    "#utilizo funcion de pandas isin\n",
    "mascara_descartables = df1.User.isin(usuarios_descartables)\n"
   ]
  },
  {
   "source": [
    "df1 = df1[~mascara_descartables]"
   ],
   "cell_type": "markdown",
   "metadata": {}
  },
  {
   "cell_type": "code",
   "execution_count": 55,
   "metadata": {},
   "outputs": [
    {
     "output_type": "stream",
     "name": "stdout",
     "text": [
      "(24053764, 3)\n",
      "(10658448, 3)\n"
     ]
    }
   ],
   "source": [
    "print(df1.shape)\n",
    "df1 = df1[~mascara_descartables]\n",
    "print(df1.shape)"
   ]
  },
  {
   "cell_type": "markdown",
   "metadata": {},
   "source": [
    "### Movie-id-name"
   ]
  },
  {
   "cell_type": "code",
   "execution_count": 56,
   "metadata": {},
   "outputs": [
    {
     "output_type": "stream",
     "name": "stdout",
     "text": [
      "<_io.TextIOWrapper name='..\\\\data\\\\netflix-prize-data\\\\movie_titles.csv' mode='r' encoding='cp1252'>\n"
     ]
    }
   ],
   "source": [
    "with open(netflix + \"movie_titles.csv\") as f:\n",
    "    print(f)\n",
    "    #for i in range(10):\n",
    "    #    print(f.readline())\n"
   ]
  },
  {
   "cell_type": "code",
   "execution_count": 57,
   "metadata": {},
   "outputs": [],
   "source": [
    "df_title = pd.read_csv(netflix + \"movie_titles.csv\",encoding = \"cp1252\",index_col = 0, header = None, usecols = [0,2], names = ['Movie_Id', 'Name'])"
   ]
  },
  {
   "cell_type": "code",
   "execution_count": 58,
   "metadata": {},
   "outputs": [
    {
     "output_type": "execute_result",
     "data": {
      "text/plain": [
       "                                  Name\n",
       "Movie_Id                              \n",
       "1                      Dinosaur Planet\n",
       "2           Isle of Man TT 2004 Review\n",
       "3                            Character\n",
       "4         Paula Abdul's Get Up & Dance\n",
       "5             The Rise and Fall of ECW"
      ],
      "text/html": "<div>\n<style scoped>\n    .dataframe tbody tr th:only-of-type {\n        vertical-align: middle;\n    }\n\n    .dataframe tbody tr th {\n        vertical-align: top;\n    }\n\n    .dataframe thead th {\n        text-align: right;\n    }\n</style>\n<table border=\"1\" class=\"dataframe\">\n  <thead>\n    <tr style=\"text-align: right;\">\n      <th></th>\n      <th>Name</th>\n    </tr>\n    <tr>\n      <th>Movie_Id</th>\n      <th></th>\n    </tr>\n  </thead>\n  <tbody>\n    <tr>\n      <th>1</th>\n      <td>Dinosaur Planet</td>\n    </tr>\n    <tr>\n      <th>2</th>\n      <td>Isle of Man TT 2004 Review</td>\n    </tr>\n    <tr>\n      <th>3</th>\n      <td>Character</td>\n    </tr>\n    <tr>\n      <th>4</th>\n      <td>Paula Abdul's Get Up &amp; Dance</td>\n    </tr>\n    <tr>\n      <th>5</th>\n      <td>The Rise and Fall of ECW</td>\n    </tr>\n  </tbody>\n</table>\n</div>"
     },
     "metadata": {},
     "execution_count": 58
    }
   ],
   "source": [
    "df_title.head()"
   ]
  },
  {
   "cell_type": "code",
   "execution_count": 59,
   "metadata": {},
   "outputs": [
    {
     "output_type": "execute_result",
     "data": {
      "text/plain": [
       "1905    128150\n",
       "2152    104851\n",
       "3860    102968\n",
       "4432    101720\n",
       "3938     99295\n",
       "Name: Movie_id, dtype: int64"
      ]
     },
     "metadata": {},
     "execution_count": 59
    }
   ],
   "source": [
    "df1.Movie_id.value_counts().nlargest(5) "
   ]
  },
  {
   "source": [
    "# filtro con menos de 3mil usuarios por pelicula\n",
    "# df1.Movie_id.value_counts() <= 3000"
   ],
   "cell_type": "markdown",
   "metadata": {}
  },
  {
   "cell_type": "code",
   "execution_count": 60,
   "metadata": {},
   "outputs": [
    {
     "output_type": "stream",
     "name": "stdout",
     "text": [
      "(10658448, 3)\n",
      "(9051531, 3)\n"
     ]
    }
   ],
   "source": [
    "mask_items_descartables = df1.Movie_id.value_counts() <= 3000\n",
    "items_descartables = mask_items_descartables[mask_items_descartables].index.values\n",
    "mascara_descartables = df1.Movie_id.isin(items_descartables)\n",
    "print(df1.shape)\n",
    "df1 = df1[~mascara_descartables]\n",
    "print(df1.shape)"
   ]
  },
  {
   "source": [
    "# segunda parte"
   ],
   "cell_type": "markdown",
   "metadata": {}
  },
  {
   "cell_type": "markdown",
   "metadata": {},
   "source": [
    "### Matriz de Utilidad"
   ]
  },
  {
   "cell_type": "markdown",
   "metadata": {},
   "source": [
    "# Esto es un dataset y no una matriz de utilidad\n",
    "\n",
    "\n",
    "Para poder continuar, es necesario llevarlo a una matriz de utilidad.\n",
    "\n",
    "Sin embargo, hay que tener cuidado. Tenemos del orden de ~1000 ítems y ~500 mil usuarios, lo que da una matriz de 500.000.000 entradas. Pero la mayoría de estas entradas son 0, ya que solo contamos con aproxidamente 10.000.000 calificaciones (estos valores se modifican según cómo filtremos el dataset). Es decir, aproximadamente una de cada 50 posibles entradas. Si guardásemos esta información en un dataset común, casi seguro llenaríamos nuestra memoria RAM. Por suerte, existen los tipos de datos \"ralos\" (sparse), que hacen esto de manera eficiente.\n",
    "\n",
    "Puedes leer más aquí."
   ]
  },
  {
   "cell_type": "code",
   "execution_count": 61,
   "metadata": {},
   "outputs": [
    {
     "output_type": "execute_result",
     "data": {
      "text/plain": [
       "         User  Rating  Movie_id\n",
       "5098   824097       2         8\n",
       "5099  2630686       5         8"
      ],
      "text/html": "<div>\n<style scoped>\n    .dataframe tbody tr th:only-of-type {\n        vertical-align: middle;\n    }\n\n    .dataframe tbody tr th {\n        vertical-align: top;\n    }\n\n    .dataframe thead th {\n        text-align: right;\n    }\n</style>\n<table border=\"1\" class=\"dataframe\">\n  <thead>\n    <tr style=\"text-align: right;\">\n      <th></th>\n      <th>User</th>\n      <th>Rating</th>\n      <th>Movie_id</th>\n    </tr>\n  </thead>\n  <tbody>\n    <tr>\n      <th>5098</th>\n      <td>824097</td>\n      <td>2</td>\n      <td>8</td>\n    </tr>\n    <tr>\n      <th>5099</th>\n      <td>2630686</td>\n      <td>5</td>\n      <td>8</td>\n    </tr>\n  </tbody>\n</table>\n</div>"
     },
     "metadata": {},
     "execution_count": 61
    }
   ],
   "source": [
    "df1.head(2)"
   ]
  },
  {
   "cell_type": "code",
   "execution_count": 62,
   "metadata": {},
   "outputs": [],
   "source": [
    "usuarios = df1.User.unique()\n",
    "items = df1.Movie_id.unique()\n"
   ]
  },
  {
   "cell_type": "markdown",
   "metadata": {},
   "source": [
    "¿Cuantos son?"
   ]
  },
  {
   "cell_type": "code",
   "execution_count": 63,
   "metadata": {},
   "outputs": [
    {
     "output_type": "stream",
     "name": "stdout",
     "text": [
      "320181 502\n"
     ]
    }
   ],
   "source": [
    "n_usuarios = len(usuarios)\n",
    "n_items = len(items)\n",
    "print(n_usuarios, n_items)"
   ]
  },
  {
   "source": [
    "# Creamos una matriz sparse (rala) de ceros, de `n_usuarios` filas y `n_items` columnas."
   ],
   "cell_type": "markdown",
   "metadata": {}
  },
  {
   "cell_type": "code",
   "execution_count": 64,
   "metadata": {},
   "outputs": [
    {
     "output_type": "execute_result",
     "data": {
      "text/plain": [
       "         8     17    28    30    33    58    83    97    108   111   ...  \\\n",
       "824097    0.0   0.0   0.0   0.0   0.0   0.0   0.0   0.0   0.0   0.0  ...   \n",
       "2630686   0.0   0.0   0.0   0.0   0.0   0.0   0.0   0.0   0.0   0.0  ...   \n",
       "644003    0.0   0.0   0.0   0.0   0.0   0.0   0.0   0.0   0.0   0.0  ...   \n",
       "229220    0.0   0.0   0.0   0.0   0.0   0.0   0.0   0.0   0.0   0.0  ...   \n",
       "2580478   0.0   0.0   0.0   0.0   0.0   0.0   0.0   0.0   0.0   0.0  ...   \n",
       "\n",
       "         4402  4418  4420  4432  4472  4479  4488  4490  4492  4496  \n",
       "824097    0.0   0.0   0.0   0.0   0.0   0.0   0.0   0.0   0.0   0.0  \n",
       "2630686   0.0   0.0   0.0   0.0   0.0   0.0   0.0   0.0   0.0   0.0  \n",
       "644003    0.0   0.0   0.0   0.0   0.0   0.0   0.0   0.0   0.0   0.0  \n",
       "229220    0.0   0.0   0.0   0.0   0.0   0.0   0.0   0.0   0.0   0.0  \n",
       "2580478   0.0   0.0   0.0   0.0   0.0   0.0   0.0   0.0   0.0   0.0  \n",
       "\n",
       "[5 rows x 502 columns]"
      ],
      "text/html": "<div>\n<style scoped>\n    .dataframe tbody tr th:only-of-type {\n        vertical-align: middle;\n    }\n\n    .dataframe tbody tr th {\n        vertical-align: top;\n    }\n\n    .dataframe thead th {\n        text-align: right;\n    }\n</style>\n<table border=\"1\" class=\"dataframe\">\n  <thead>\n    <tr style=\"text-align: right;\">\n      <th></th>\n      <th>8</th>\n      <th>17</th>\n      <th>28</th>\n      <th>30</th>\n      <th>33</th>\n      <th>58</th>\n      <th>83</th>\n      <th>97</th>\n      <th>108</th>\n      <th>111</th>\n      <th>...</th>\n      <th>4402</th>\n      <th>4418</th>\n      <th>4420</th>\n      <th>4432</th>\n      <th>4472</th>\n      <th>4479</th>\n      <th>4488</th>\n      <th>4490</th>\n      <th>4492</th>\n      <th>4496</th>\n    </tr>\n  </thead>\n  <tbody>\n    <tr>\n      <th>824097</th>\n      <td>0.0</td>\n      <td>0.0</td>\n      <td>0.0</td>\n      <td>0.0</td>\n      <td>0.0</td>\n      <td>0.0</td>\n      <td>0.0</td>\n      <td>0.0</td>\n      <td>0.0</td>\n      <td>0.0</td>\n      <td>...</td>\n      <td>0.0</td>\n      <td>0.0</td>\n      <td>0.0</td>\n      <td>0.0</td>\n      <td>0.0</td>\n      <td>0.0</td>\n      <td>0.0</td>\n      <td>0.0</td>\n      <td>0.0</td>\n      <td>0.0</td>\n    </tr>\n    <tr>\n      <th>2630686</th>\n      <td>0.0</td>\n      <td>0.0</td>\n      <td>0.0</td>\n      <td>0.0</td>\n      <td>0.0</td>\n      <td>0.0</td>\n      <td>0.0</td>\n      <td>0.0</td>\n      <td>0.0</td>\n      <td>0.0</td>\n      <td>...</td>\n      <td>0.0</td>\n      <td>0.0</td>\n      <td>0.0</td>\n      <td>0.0</td>\n      <td>0.0</td>\n      <td>0.0</td>\n      <td>0.0</td>\n      <td>0.0</td>\n      <td>0.0</td>\n      <td>0.0</td>\n    </tr>\n    <tr>\n      <th>644003</th>\n      <td>0.0</td>\n      <td>0.0</td>\n      <td>0.0</td>\n      <td>0.0</td>\n      <td>0.0</td>\n      <td>0.0</td>\n      <td>0.0</td>\n      <td>0.0</td>\n      <td>0.0</td>\n      <td>0.0</td>\n      <td>...</td>\n      <td>0.0</td>\n      <td>0.0</td>\n      <td>0.0</td>\n      <td>0.0</td>\n      <td>0.0</td>\n      <td>0.0</td>\n      <td>0.0</td>\n      <td>0.0</td>\n      <td>0.0</td>\n      <td>0.0</td>\n    </tr>\n    <tr>\n      <th>229220</th>\n      <td>0.0</td>\n      <td>0.0</td>\n      <td>0.0</td>\n      <td>0.0</td>\n      <td>0.0</td>\n      <td>0.0</td>\n      <td>0.0</td>\n      <td>0.0</td>\n      <td>0.0</td>\n      <td>0.0</td>\n      <td>...</td>\n      <td>0.0</td>\n      <td>0.0</td>\n      <td>0.0</td>\n      <td>0.0</td>\n      <td>0.0</td>\n      <td>0.0</td>\n      <td>0.0</td>\n      <td>0.0</td>\n      <td>0.0</td>\n      <td>0.0</td>\n    </tr>\n    <tr>\n      <th>2580478</th>\n      <td>0.0</td>\n      <td>0.0</td>\n      <td>0.0</td>\n      <td>0.0</td>\n      <td>0.0</td>\n      <td>0.0</td>\n      <td>0.0</td>\n      <td>0.0</td>\n      <td>0.0</td>\n      <td>0.0</td>\n      <td>...</td>\n      <td>0.0</td>\n      <td>0.0</td>\n      <td>0.0</td>\n      <td>0.0</td>\n      <td>0.0</td>\n      <td>0.0</td>\n      <td>0.0</td>\n      <td>0.0</td>\n      <td>0.0</td>\n      <td>0.0</td>\n    </tr>\n  </tbody>\n</table>\n<p>5 rows × 502 columns</p>\n</div>"
     },
     "metadata": {},
     "execution_count": 64
    }
   ],
   "source": [
    "matriz_utilidad = pd.DataFrame(np.zeros((n_usuarios, n_items)), index =  usuarios, columns = items).astype(pd.SparseDtype(\"float\"))\n",
    "matriz_utilidad.head()"
   ]
  },
  {
   "source": [
    "# Calculo auxiliar como rellenar la matriz!\n",
    "\n",
    "* Filtro\n",
    "* values\n",
    "* pelicula matirz_utilidad[28].loc[filtro.User.values]"
   ],
   "cell_type": "markdown",
   "metadata": {}
  },
  {
   "cell_type": "code",
   "execution_count": 65,
   "metadata": {},
   "outputs": [],
   "source": [
    "filtro = df1[df1.Movie_id == 28]"
   ]
  },
  {
   "cell_type": "code",
   "execution_count": 66,
   "metadata": {},
   "outputs": [
    {
     "output_type": "execute_result",
     "data": {
      "text/plain": [
       "array([5, 3, 4, ..., 4, 5, 5], dtype=int8)"
      ]
     },
     "metadata": {},
     "execution_count": 66
    }
   ],
   "source": [
    "filtro.Rating.values"
   ]
  },
  {
   "cell_type": "code",
   "execution_count": 67,
   "metadata": {},
   "outputs": [
    {
     "output_type": "execute_result",
     "data": {
      "text/plain": [
       "array([5, 3, 4, ..., 4, 5, 5], dtype=int8)"
      ]
     },
     "metadata": {},
     "execution_count": 67
    }
   ],
   "source": [
    "filtro.Rating.values"
   ]
  },
  {
   "cell_type": "code",
   "execution_count": 68,
   "metadata": {},
   "outputs": [
    {
     "output_type": "execute_result",
     "data": {
      "text/plain": [
       "2626356    0.0\n",
       "452013     0.0\n",
       "1661657    0.0\n",
       "1778432    0.0\n",
       "2557878    0.0\n",
       "          ... \n",
       "2090969    0.0\n",
       "2249402    0.0\n",
       "984872     0.0\n",
       "528953     0.0\n",
       "1595055    0.0\n",
       "Name: 28, Length: 16424, dtype: Sparse[float64, nan]"
      ]
     },
     "metadata": {},
     "execution_count": 68
    }
   ],
   "source": [
    "matriz_utilidad[28].loc[filtro.User.values]"
   ]
  },
  {
   "cell_type": "code",
   "execution_count": 69,
   "metadata": {},
   "outputs": [],
   "source": [
    " matriz_utilidad[28] = matriz_utilidad[28].sparse.to_dense()"
   ]
  },
  {
   "cell_type": "code",
   "execution_count": 70,
   "metadata": {},
   "outputs": [],
   "source": [
    "matriz_utilidad[28].loc[filtro.User.values] = 5"
   ]
  },
  {
   "cell_type": "code",
   "execution_count": 71,
   "metadata": {},
   "outputs": [
    {
     "output_type": "execute_result",
     "data": {
      "text/plain": [
       "2626356    5.0\n",
       "452013     5.0\n",
       "1661657    5.0\n",
       "1778432    5.0\n",
       "2557878    5.0\n",
       "          ... \n",
       "2090969    5.0\n",
       "2249402    5.0\n",
       "984872     5.0\n",
       "528953     5.0\n",
       "1595055    5.0\n",
       "Name: 28, Length: 16424, dtype: float64"
      ]
     },
     "metadata": {},
     "execution_count": 71
    }
   ],
   "source": [
    "matriz_utilidad[28].loc[filtro.User.values] "
   ]
  },
  {
   "cell_type": "code",
   "execution_count": 72,
   "metadata": {},
   "outputs": [
    {
     "output_type": "execute_result",
     "data": {
      "text/plain": [
       "         8     17    28    30    33    58    83    97    108   111   ...  \\\n",
       "824097    0.0   0.0   0.0   0.0   0.0   0.0   0.0   0.0   0.0   0.0  ...   \n",
       "2630686   0.0   0.0   0.0   0.0   0.0   0.0   0.0   0.0   0.0   0.0  ...   \n",
       "644003    0.0   0.0   0.0   0.0   0.0   0.0   0.0   0.0   0.0   0.0  ...   \n",
       "229220    0.0   0.0   0.0   0.0   0.0   0.0   0.0   0.0   0.0   0.0  ...   \n",
       "2580478   0.0   0.0   0.0   0.0   0.0   0.0   0.0   0.0   0.0   0.0  ...   \n",
       "\n",
       "         4402  4418  4420  4432  4472  4479  4488  4490  4492  4496  \n",
       "824097    0.0   0.0   0.0   0.0   0.0   0.0   0.0   0.0   0.0   0.0  \n",
       "2630686   0.0   0.0   0.0   0.0   0.0   0.0   0.0   0.0   0.0   0.0  \n",
       "644003    0.0   0.0   0.0   0.0   0.0   0.0   0.0   0.0   0.0   0.0  \n",
       "229220    0.0   0.0   0.0   0.0   0.0   0.0   0.0   0.0   0.0   0.0  \n",
       "2580478   0.0   0.0   0.0   0.0   0.0   0.0   0.0   0.0   0.0   0.0  \n",
       "\n",
       "[5 rows x 502 columns]"
      ],
      "text/html": "<div>\n<style scoped>\n    .dataframe tbody tr th:only-of-type {\n        vertical-align: middle;\n    }\n\n    .dataframe tbody tr th {\n        vertical-align: top;\n    }\n\n    .dataframe thead th {\n        text-align: right;\n    }\n</style>\n<table border=\"1\" class=\"dataframe\">\n  <thead>\n    <tr style=\"text-align: right;\">\n      <th></th>\n      <th>8</th>\n      <th>17</th>\n      <th>28</th>\n      <th>30</th>\n      <th>33</th>\n      <th>58</th>\n      <th>83</th>\n      <th>97</th>\n      <th>108</th>\n      <th>111</th>\n      <th>...</th>\n      <th>4402</th>\n      <th>4418</th>\n      <th>4420</th>\n      <th>4432</th>\n      <th>4472</th>\n      <th>4479</th>\n      <th>4488</th>\n      <th>4490</th>\n      <th>4492</th>\n      <th>4496</th>\n    </tr>\n  </thead>\n  <tbody>\n    <tr>\n      <th>824097</th>\n      <td>0.0</td>\n      <td>0.0</td>\n      <td>0.0</td>\n      <td>0.0</td>\n      <td>0.0</td>\n      <td>0.0</td>\n      <td>0.0</td>\n      <td>0.0</td>\n      <td>0.0</td>\n      <td>0.0</td>\n      <td>...</td>\n      <td>0.0</td>\n      <td>0.0</td>\n      <td>0.0</td>\n      <td>0.0</td>\n      <td>0.0</td>\n      <td>0.0</td>\n      <td>0.0</td>\n      <td>0.0</td>\n      <td>0.0</td>\n      <td>0.0</td>\n    </tr>\n    <tr>\n      <th>2630686</th>\n      <td>0.0</td>\n      <td>0.0</td>\n      <td>0.0</td>\n      <td>0.0</td>\n      <td>0.0</td>\n      <td>0.0</td>\n      <td>0.0</td>\n      <td>0.0</td>\n      <td>0.0</td>\n      <td>0.0</td>\n      <td>...</td>\n      <td>0.0</td>\n      <td>0.0</td>\n      <td>0.0</td>\n      <td>0.0</td>\n      <td>0.0</td>\n      <td>0.0</td>\n      <td>0.0</td>\n      <td>0.0</td>\n      <td>0.0</td>\n      <td>0.0</td>\n    </tr>\n    <tr>\n      <th>644003</th>\n      <td>0.0</td>\n      <td>0.0</td>\n      <td>0.0</td>\n      <td>0.0</td>\n      <td>0.0</td>\n      <td>0.0</td>\n      <td>0.0</td>\n      <td>0.0</td>\n      <td>0.0</td>\n      <td>0.0</td>\n      <td>...</td>\n      <td>0.0</td>\n      <td>0.0</td>\n      <td>0.0</td>\n      <td>0.0</td>\n      <td>0.0</td>\n      <td>0.0</td>\n      <td>0.0</td>\n      <td>0.0</td>\n      <td>0.0</td>\n      <td>0.0</td>\n    </tr>\n    <tr>\n      <th>229220</th>\n      <td>0.0</td>\n      <td>0.0</td>\n      <td>0.0</td>\n      <td>0.0</td>\n      <td>0.0</td>\n      <td>0.0</td>\n      <td>0.0</td>\n      <td>0.0</td>\n      <td>0.0</td>\n      <td>0.0</td>\n      <td>...</td>\n      <td>0.0</td>\n      <td>0.0</td>\n      <td>0.0</td>\n      <td>0.0</td>\n      <td>0.0</td>\n      <td>0.0</td>\n      <td>0.0</td>\n      <td>0.0</td>\n      <td>0.0</td>\n      <td>0.0</td>\n    </tr>\n    <tr>\n      <th>2580478</th>\n      <td>0.0</td>\n      <td>0.0</td>\n      <td>0.0</td>\n      <td>0.0</td>\n      <td>0.0</td>\n      <td>0.0</td>\n      <td>0.0</td>\n      <td>0.0</td>\n      <td>0.0</td>\n      <td>0.0</td>\n      <td>...</td>\n      <td>0.0</td>\n      <td>0.0</td>\n      <td>0.0</td>\n      <td>0.0</td>\n      <td>0.0</td>\n      <td>0.0</td>\n      <td>0.0</td>\n      <td>0.0</td>\n      <td>0.0</td>\n      <td>0.0</td>\n    </tr>\n  </tbody>\n</table>\n<p>5 rows × 502 columns</p>\n</div>"
     },
     "metadata": {},
     "execution_count": 72
    }
   ],
   "source": [
    "matriz_utilidad = pd.DataFrame(np.zeros((n_usuarios, n_items)), index =  usuarios, columns = items).astype(pd.SparseDtype(\"float\"))\n",
    "matriz_utilidad.head()"
   ]
  },
  {
   "cell_type": "code",
   "execution_count": 73,
   "metadata": {},
   "outputs": [],
   "source": [
    "### Iteramos sobre cada columna\n",
    "for column in matriz_utilidad:\n",
    "    # guardo los tipos de la columna para utilizarlo despues\n",
    "    spdtypes = matriz_utilidad.dtypes[column]\n",
    "\n",
    "    # convierto la matriz sparse a densa para poder llenarla de valores\n",
    "    matriz_utilidad[column] = matriz_utilidad[column].sparse.to_dense()\n",
    "    \n",
    "    ### recorro cada movie id y filtro por esas calificaciones\n",
    "    mask_calificaciones_columna = df1.Movie_id == column\n",
    "    calificaciones_columna = df1[mask_calificaciones_columna]\n",
    "    \n",
    "    # lleno la matriz de utilidad con las calificaciones por pelicula por usuario\n",
    "    matriz_utilidad[column].loc[calificaciones_columna.User.values] = calificaciones_columna.Rating.values\n",
    "\n",
    "    # vuelvo a la matriz de utilidad\n",
    "    matriz_utilidad[column] = matriz_utilidad[column].astype(spdtypes)"
   ]
  },
  {
   "cell_type": "code",
   "execution_count": 74,
   "metadata": {
    "scrolled": true
   },
   "outputs": [
    {
     "output_type": "execute_result",
     "data": {
      "text/plain": [
       "         8     17    28    30    33    58    83    97    108   111   ...  \\\n",
       "824097    2.0   0.0   0.0   5.0   0.0   0.0   4.0   0.0   0.0   0.0  ...   \n",
       "2630686   5.0   0.0   0.0   0.0   0.0   0.0   0.0   0.0   0.0   0.0  ...   \n",
       "644003    3.0   0.0   0.0   0.0   0.0   0.0   0.0   0.0   0.0   0.0  ...   \n",
       "229220    4.0   0.0   0.0   0.0   0.0   0.0   0.0   0.0   0.0   0.0  ...   \n",
       "2580478   4.0   0.0   0.0   0.0   0.0   0.0   0.0   0.0   0.0   0.0  ...   \n",
       "...       ...   ...   ...   ...   ...   ...   ...   ...   ...   ...  ...   \n",
       "708048    0.0   0.0   0.0   0.0   0.0   0.0   0.0   0.0   0.0   0.0  ...   \n",
       "175653    0.0   0.0   0.0   0.0   0.0   0.0   0.0   0.0   0.0   0.0  ...   \n",
       "1602517   0.0   0.0   0.0   0.0   0.0   0.0   0.0   0.0   0.0   0.0  ...   \n",
       "2478092   0.0   0.0   0.0   0.0   0.0   0.0   0.0   0.0   0.0   0.0  ...   \n",
       "59758     0.0   0.0   0.0   0.0   0.0   0.0   0.0   0.0   0.0   0.0  ...   \n",
       "\n",
       "         4402  4418  4420  4432  4472  4479  4488  4490  4492  4496  \n",
       "824097    0.0   0.0   0.0   0.0   4.0   0.0   0.0   1.0   0.0   0.0  \n",
       "2630686   0.0   0.0   0.0   0.0   0.0   0.0   0.0   0.0   0.0   0.0  \n",
       "644003    0.0   0.0   0.0   5.0   0.0   0.0   0.0   0.0   0.0   0.0  \n",
       "229220    0.0   0.0   0.0   4.0   0.0   0.0   0.0   0.0   0.0   0.0  \n",
       "2580478   0.0   0.0   0.0   0.0   0.0   0.0   0.0   0.0   0.0   0.0  \n",
       "...       ...   ...   ...   ...   ...   ...   ...   ...   ...   ...  \n",
       "708048    0.0   0.0   0.0   0.0   5.0   0.0   0.0   0.0   0.0   0.0  \n",
       "175653    0.0   0.0   0.0   0.0   0.0   4.0   0.0   0.0   0.0   0.0  \n",
       "1602517   0.0   0.0   0.0   0.0   0.0   0.0   0.0   0.0   1.0   0.0  \n",
       "2478092   0.0   0.0   0.0   0.0   0.0   0.0   0.0   0.0   0.0   4.0  \n",
       "59758     0.0   0.0   0.0   0.0   0.0   0.0   0.0   0.0   0.0   5.0  \n",
       "\n",
       "[320181 rows x 502 columns]"
      ],
      "text/html": "<div>\n<style scoped>\n    .dataframe tbody tr th:only-of-type {\n        vertical-align: middle;\n    }\n\n    .dataframe tbody tr th {\n        vertical-align: top;\n    }\n\n    .dataframe thead th {\n        text-align: right;\n    }\n</style>\n<table border=\"1\" class=\"dataframe\">\n  <thead>\n    <tr style=\"text-align: right;\">\n      <th></th>\n      <th>8</th>\n      <th>17</th>\n      <th>28</th>\n      <th>30</th>\n      <th>33</th>\n      <th>58</th>\n      <th>83</th>\n      <th>97</th>\n      <th>108</th>\n      <th>111</th>\n      <th>...</th>\n      <th>4402</th>\n      <th>4418</th>\n      <th>4420</th>\n      <th>4432</th>\n      <th>4472</th>\n      <th>4479</th>\n      <th>4488</th>\n      <th>4490</th>\n      <th>4492</th>\n      <th>4496</th>\n    </tr>\n  </thead>\n  <tbody>\n    <tr>\n      <th>824097</th>\n      <td>2.0</td>\n      <td>0.0</td>\n      <td>0.0</td>\n      <td>5.0</td>\n      <td>0.0</td>\n      <td>0.0</td>\n      <td>4.0</td>\n      <td>0.0</td>\n      <td>0.0</td>\n      <td>0.0</td>\n      <td>...</td>\n      <td>0.0</td>\n      <td>0.0</td>\n      <td>0.0</td>\n      <td>0.0</td>\n      <td>4.0</td>\n      <td>0.0</td>\n      <td>0.0</td>\n      <td>1.0</td>\n      <td>0.0</td>\n      <td>0.0</td>\n    </tr>\n    <tr>\n      <th>2630686</th>\n      <td>5.0</td>\n      <td>0.0</td>\n      <td>0.0</td>\n      <td>0.0</td>\n      <td>0.0</td>\n      <td>0.0</td>\n      <td>0.0</td>\n      <td>0.0</td>\n      <td>0.0</td>\n      <td>0.0</td>\n      <td>...</td>\n      <td>0.0</td>\n      <td>0.0</td>\n      <td>0.0</td>\n      <td>0.0</td>\n      <td>0.0</td>\n      <td>0.0</td>\n      <td>0.0</td>\n      <td>0.0</td>\n      <td>0.0</td>\n      <td>0.0</td>\n    </tr>\n    <tr>\n      <th>644003</th>\n      <td>3.0</td>\n      <td>0.0</td>\n      <td>0.0</td>\n      <td>0.0</td>\n      <td>0.0</td>\n      <td>0.0</td>\n      <td>0.0</td>\n      <td>0.0</td>\n      <td>0.0</td>\n      <td>0.0</td>\n      <td>...</td>\n      <td>0.0</td>\n      <td>0.0</td>\n      <td>0.0</td>\n      <td>5.0</td>\n      <td>0.0</td>\n      <td>0.0</td>\n      <td>0.0</td>\n      <td>0.0</td>\n      <td>0.0</td>\n      <td>0.0</td>\n    </tr>\n    <tr>\n      <th>229220</th>\n      <td>4.0</td>\n      <td>0.0</td>\n      <td>0.0</td>\n      <td>0.0</td>\n      <td>0.0</td>\n      <td>0.0</td>\n      <td>0.0</td>\n      <td>0.0</td>\n      <td>0.0</td>\n      <td>0.0</td>\n      <td>...</td>\n      <td>0.0</td>\n      <td>0.0</td>\n      <td>0.0</td>\n      <td>4.0</td>\n      <td>0.0</td>\n      <td>0.0</td>\n      <td>0.0</td>\n      <td>0.0</td>\n      <td>0.0</td>\n      <td>0.0</td>\n    </tr>\n    <tr>\n      <th>2580478</th>\n      <td>4.0</td>\n      <td>0.0</td>\n      <td>0.0</td>\n      <td>0.0</td>\n      <td>0.0</td>\n      <td>0.0</td>\n      <td>0.0</td>\n      <td>0.0</td>\n      <td>0.0</td>\n      <td>0.0</td>\n      <td>...</td>\n      <td>0.0</td>\n      <td>0.0</td>\n      <td>0.0</td>\n      <td>0.0</td>\n      <td>0.0</td>\n      <td>0.0</td>\n      <td>0.0</td>\n      <td>0.0</td>\n      <td>0.0</td>\n      <td>0.0</td>\n    </tr>\n    <tr>\n      <th>...</th>\n      <td>...</td>\n      <td>...</td>\n      <td>...</td>\n      <td>...</td>\n      <td>...</td>\n      <td>...</td>\n      <td>...</td>\n      <td>...</td>\n      <td>...</td>\n      <td>...</td>\n      <td>...</td>\n      <td>...</td>\n      <td>...</td>\n      <td>...</td>\n      <td>...</td>\n      <td>...</td>\n      <td>...</td>\n      <td>...</td>\n      <td>...</td>\n      <td>...</td>\n      <td>...</td>\n    </tr>\n    <tr>\n      <th>708048</th>\n      <td>0.0</td>\n      <td>0.0</td>\n      <td>0.0</td>\n      <td>0.0</td>\n      <td>0.0</td>\n      <td>0.0</td>\n      <td>0.0</td>\n      <td>0.0</td>\n      <td>0.0</td>\n      <td>0.0</td>\n      <td>...</td>\n      <td>0.0</td>\n      <td>0.0</td>\n      <td>0.0</td>\n      <td>0.0</td>\n      <td>5.0</td>\n      <td>0.0</td>\n      <td>0.0</td>\n      <td>0.0</td>\n      <td>0.0</td>\n      <td>0.0</td>\n    </tr>\n    <tr>\n      <th>175653</th>\n      <td>0.0</td>\n      <td>0.0</td>\n      <td>0.0</td>\n      <td>0.0</td>\n      <td>0.0</td>\n      <td>0.0</td>\n      <td>0.0</td>\n      <td>0.0</td>\n      <td>0.0</td>\n      <td>0.0</td>\n      <td>...</td>\n      <td>0.0</td>\n      <td>0.0</td>\n      <td>0.0</td>\n      <td>0.0</td>\n      <td>0.0</td>\n      <td>4.0</td>\n      <td>0.0</td>\n      <td>0.0</td>\n      <td>0.0</td>\n      <td>0.0</td>\n    </tr>\n    <tr>\n      <th>1602517</th>\n      <td>0.0</td>\n      <td>0.0</td>\n      <td>0.0</td>\n      <td>0.0</td>\n      <td>0.0</td>\n      <td>0.0</td>\n      <td>0.0</td>\n      <td>0.0</td>\n      <td>0.0</td>\n      <td>0.0</td>\n      <td>...</td>\n      <td>0.0</td>\n      <td>0.0</td>\n      <td>0.0</td>\n      <td>0.0</td>\n      <td>0.0</td>\n      <td>0.0</td>\n      <td>0.0</td>\n      <td>0.0</td>\n      <td>1.0</td>\n      <td>0.0</td>\n    </tr>\n    <tr>\n      <th>2478092</th>\n      <td>0.0</td>\n      <td>0.0</td>\n      <td>0.0</td>\n      <td>0.0</td>\n      <td>0.0</td>\n      <td>0.0</td>\n      <td>0.0</td>\n      <td>0.0</td>\n      <td>0.0</td>\n      <td>0.0</td>\n      <td>...</td>\n      <td>0.0</td>\n      <td>0.0</td>\n      <td>0.0</td>\n      <td>0.0</td>\n      <td>0.0</td>\n      <td>0.0</td>\n      <td>0.0</td>\n      <td>0.0</td>\n      <td>0.0</td>\n      <td>4.0</td>\n    </tr>\n    <tr>\n      <th>59758</th>\n      <td>0.0</td>\n      <td>0.0</td>\n      <td>0.0</td>\n      <td>0.0</td>\n      <td>0.0</td>\n      <td>0.0</td>\n      <td>0.0</td>\n      <td>0.0</td>\n      <td>0.0</td>\n      <td>0.0</td>\n      <td>...</td>\n      <td>0.0</td>\n      <td>0.0</td>\n      <td>0.0</td>\n      <td>0.0</td>\n      <td>0.0</td>\n      <td>0.0</td>\n      <td>0.0</td>\n      <td>0.0</td>\n      <td>0.0</td>\n      <td>5.0</td>\n    </tr>\n  </tbody>\n</table>\n<p>320181 rows × 502 columns</p>\n</div>"
     },
     "metadata": {},
     "execution_count": 74
    }
   ],
   "source": [
    "matriz_utilidad"
   ]
  },
  {
   "cell_type": "code",
   "execution_count": 75,
   "metadata": {},
   "outputs": [
    {
     "output_type": "execute_result",
     "data": {
      "text/plain": [
       "         What the #$*! Do We Know!?  7 Seconds  Lilo and Stitch  \\\n",
       "824097                          2.0        0.0              0.0   \n",
       "2630686                         5.0        0.0              0.0   \n",
       "644003                          3.0        0.0              0.0   \n",
       "229220                          4.0        0.0              0.0   \n",
       "2580478                         4.0        0.0              0.0   \n",
       "\n",
       "         Something's Gotta Give  Aqua Teen Hunger Force: Vol. 1  Dragonheart  \\\n",
       "824097                      5.0                             0.0          0.0   \n",
       "2630686                     0.0                             0.0          0.0   \n",
       "644003                      0.0                             0.0          0.0   \n",
       "229220                      0.0                             0.0          0.0   \n",
       "2580478                     0.0                             0.0          0.0   \n",
       "\n",
       "         Silkwood  Mostly Martha  Spartan  Duplex (Widescreen)  ...  \\\n",
       "824097        4.0            0.0      0.0                  0.0  ...   \n",
       "2630686       0.0            0.0      0.0                  0.0  ...   \n",
       "644003        0.0            0.0      0.0                  0.0  ...   \n",
       "229220        0.0            0.0      0.0                  0.0  ...   \n",
       "2580478       0.0            0.0      0.0                  0.0  ...   \n",
       "\n",
       "         A Nightmare on Elm Street  Titan A.E.  Against the Ropes  \\\n",
       "824097                         0.0         0.0                0.0   \n",
       "2630686                        0.0         0.0                0.0   \n",
       "644003                         0.0         0.0                0.0   \n",
       "229220                         0.0         0.0                0.0   \n",
       "2580478                        0.0         0.0                0.0   \n",
       "\n",
       "         The Italian Job  Love Actually  Ordinary People  Wonder Boys  \\\n",
       "824097               0.0            4.0              0.0          0.0   \n",
       "2630686              0.0            0.0              0.0          0.0   \n",
       "644003               5.0            0.0              0.0          0.0   \n",
       "229220               4.0            0.0              0.0          0.0   \n",
       "2580478              0.0            0.0              0.0          0.0   \n",
       "\n",
       "         Ned Kelly  Club Dread  Farewell My Concubine  \n",
       "824097         1.0         0.0                    0.0  \n",
       "2630686        0.0         0.0                    0.0  \n",
       "644003         0.0         0.0                    0.0  \n",
       "229220         0.0         0.0                    0.0  \n",
       "2580478        0.0         0.0                    0.0  \n",
       "\n",
       "[5 rows x 502 columns]"
      ],
      "text/html": "<div>\n<style scoped>\n    .dataframe tbody tr th:only-of-type {\n        vertical-align: middle;\n    }\n\n    .dataframe tbody tr th {\n        vertical-align: top;\n    }\n\n    .dataframe thead th {\n        text-align: right;\n    }\n</style>\n<table border=\"1\" class=\"dataframe\">\n  <thead>\n    <tr style=\"text-align: right;\">\n      <th></th>\n      <th>What the #$*! Do We Know!?</th>\n      <th>7 Seconds</th>\n      <th>Lilo and Stitch</th>\n      <th>Something's Gotta Give</th>\n      <th>Aqua Teen Hunger Force: Vol. 1</th>\n      <th>Dragonheart</th>\n      <th>Silkwood</th>\n      <th>Mostly Martha</th>\n      <th>Spartan</th>\n      <th>Duplex (Widescreen)</th>\n      <th>...</th>\n      <th>A Nightmare on Elm Street</th>\n      <th>Titan A.E.</th>\n      <th>Against the Ropes</th>\n      <th>The Italian Job</th>\n      <th>Love Actually</th>\n      <th>Ordinary People</th>\n      <th>Wonder Boys</th>\n      <th>Ned Kelly</th>\n      <th>Club Dread</th>\n      <th>Farewell My Concubine</th>\n    </tr>\n  </thead>\n  <tbody>\n    <tr>\n      <th>824097</th>\n      <td>2.0</td>\n      <td>0.0</td>\n      <td>0.0</td>\n      <td>5.0</td>\n      <td>0.0</td>\n      <td>0.0</td>\n      <td>4.0</td>\n      <td>0.0</td>\n      <td>0.0</td>\n      <td>0.0</td>\n      <td>...</td>\n      <td>0.0</td>\n      <td>0.0</td>\n      <td>0.0</td>\n      <td>0.0</td>\n      <td>4.0</td>\n      <td>0.0</td>\n      <td>0.0</td>\n      <td>1.0</td>\n      <td>0.0</td>\n      <td>0.0</td>\n    </tr>\n    <tr>\n      <th>2630686</th>\n      <td>5.0</td>\n      <td>0.0</td>\n      <td>0.0</td>\n      <td>0.0</td>\n      <td>0.0</td>\n      <td>0.0</td>\n      <td>0.0</td>\n      <td>0.0</td>\n      <td>0.0</td>\n      <td>0.0</td>\n      <td>...</td>\n      <td>0.0</td>\n      <td>0.0</td>\n      <td>0.0</td>\n      <td>0.0</td>\n      <td>0.0</td>\n      <td>0.0</td>\n      <td>0.0</td>\n      <td>0.0</td>\n      <td>0.0</td>\n      <td>0.0</td>\n    </tr>\n    <tr>\n      <th>644003</th>\n      <td>3.0</td>\n      <td>0.0</td>\n      <td>0.0</td>\n      <td>0.0</td>\n      <td>0.0</td>\n      <td>0.0</td>\n      <td>0.0</td>\n      <td>0.0</td>\n      <td>0.0</td>\n      <td>0.0</td>\n      <td>...</td>\n      <td>0.0</td>\n      <td>0.0</td>\n      <td>0.0</td>\n      <td>5.0</td>\n      <td>0.0</td>\n      <td>0.0</td>\n      <td>0.0</td>\n      <td>0.0</td>\n      <td>0.0</td>\n      <td>0.0</td>\n    </tr>\n    <tr>\n      <th>229220</th>\n      <td>4.0</td>\n      <td>0.0</td>\n      <td>0.0</td>\n      <td>0.0</td>\n      <td>0.0</td>\n      <td>0.0</td>\n      <td>0.0</td>\n      <td>0.0</td>\n      <td>0.0</td>\n      <td>0.0</td>\n      <td>...</td>\n      <td>0.0</td>\n      <td>0.0</td>\n      <td>0.0</td>\n      <td>4.0</td>\n      <td>0.0</td>\n      <td>0.0</td>\n      <td>0.0</td>\n      <td>0.0</td>\n      <td>0.0</td>\n      <td>0.0</td>\n    </tr>\n    <tr>\n      <th>2580478</th>\n      <td>4.0</td>\n      <td>0.0</td>\n      <td>0.0</td>\n      <td>0.0</td>\n      <td>0.0</td>\n      <td>0.0</td>\n      <td>0.0</td>\n      <td>0.0</td>\n      <td>0.0</td>\n      <td>0.0</td>\n      <td>...</td>\n      <td>0.0</td>\n      <td>0.0</td>\n      <td>0.0</td>\n      <td>0.0</td>\n      <td>0.0</td>\n      <td>0.0</td>\n      <td>0.0</td>\n      <td>0.0</td>\n      <td>0.0</td>\n      <td>0.0</td>\n    </tr>\n  </tbody>\n</table>\n<p>5 rows × 502 columns</p>\n</div>"
     },
     "metadata": {},
     "execution_count": 75
    }
   ],
   "source": [
    "matriz_utilidad.columns = df_title.loc[matriz_utilidad.columns]['Name'].values\n",
    "matriz_utilidad.head()"
   ]
  },
  {
   "cell_type": "code",
   "execution_count": null,
   "metadata": {},
   "outputs": [],
   "source": [
    "#https://stackoverflow.com/questions/60956268/save-sparse-pandas-dataframe-to-different-file-types"
   ]
  },
  {
   "cell_type": "code",
   "execution_count": 80,
   "metadata": {},
   "outputs": [],
   "source": [
    "df1.to_pickle(netflix+\"df_filtrado.pkl.zip\")\n"
   ]
  },
  {
   "cell_type": "code",
   "execution_count": 77,
   "metadata": {},
   "outputs": [],
   "source": [
    "matriz_utilidad.to_pickle(netflix+\"matriz_utilidad.pkl.zip\")\n"
   ]
  },
  {
   "cell_type": "code",
   "execution_count": null,
   "metadata": {},
   "outputs": [],
   "source": [
    "from scipy import sparse\n",
    "import scipy.sparse\n",
    "\n",
    "data_sparse = sparse.csr_matrix(matriz_utilidad)"
   ]
  },
  {
   "cell_type": "markdown",
   "metadata": {},
   "source": [
    "### Normalizacion\n",
    "\n",
    "Ésta es la idea de normalizar los vectores de usuario para que un usuario con muchas calificaciones contribuya menos a cualquier calificación individual. Esto quiere decir que un me gusta de un usuario al que solo le han gustado 10 artículos es más valioso para nosotros que un me gusta de alguien a quien le gusta todo lo que encuentra."
   ]
  },
  {
   "cell_type": "code",
   "execution_count": 79,
   "metadata": {},
   "outputs": [
    {
     "output_type": "execute_result",
     "data": {
      "text/plain": [
       "         User  Rating  Movie_id\n",
       "5098   824097       2         8\n",
       "5099  2630686       5         8\n",
       "5100   644003       3         8\n",
       "5103   229220       4         8\n",
       "5105  2580478       4         8"
      ],
      "text/html": "<div>\n<style scoped>\n    .dataframe tbody tr th:only-of-type {\n        vertical-align: middle;\n    }\n\n    .dataframe tbody tr th {\n        vertical-align: top;\n    }\n\n    .dataframe thead th {\n        text-align: right;\n    }\n</style>\n<table border=\"1\" class=\"dataframe\">\n  <thead>\n    <tr style=\"text-align: right;\">\n      <th></th>\n      <th>User</th>\n      <th>Rating</th>\n      <th>Movie_id</th>\n    </tr>\n  </thead>\n  <tbody>\n    <tr>\n      <th>5098</th>\n      <td>824097</td>\n      <td>2</td>\n      <td>8</td>\n    </tr>\n    <tr>\n      <th>5099</th>\n      <td>2630686</td>\n      <td>5</td>\n      <td>8</td>\n    </tr>\n    <tr>\n      <th>5100</th>\n      <td>644003</td>\n      <td>3</td>\n      <td>8</td>\n    </tr>\n    <tr>\n      <th>5103</th>\n      <td>229220</td>\n      <td>4</td>\n      <td>8</td>\n    </tr>\n    <tr>\n      <th>5105</th>\n      <td>2580478</td>\n      <td>4</td>\n      <td>8</td>\n    </tr>\n  </tbody>\n</table>\n</div>"
     },
     "metadata": {},
     "execution_count": 79
    }
   ],
   "source": []
  },
  {
   "cell_type": "code",
   "execution_count": null,
   "metadata": {},
   "outputs": [],
   "source": [
    "from scipy import sparse\n",
    "data_sparse = sparse.csr_matrix(matriz_utilidad) ##convierto a tipo de matriz sparse csr parte de library sciyp\n",
    "#https://docs.scipy.org/doc/scipy/reference/generated/scipy.sparse.csr_matrix.html\n",
    "\n",
    "magnitude = np.sqrt(data_sparse.power(2).sum(axis=1)) #la maginitud son los ratings sumados al cuadrado\n",
    "matriz_utilidad = matriz_utilidad.divide(magnitude, axis='index')\n",
    "matriz_utilidad"
   ]
  },
  {
   "source": [
    "# sklearn.metrics.pairwise import cosine_similarity\n",
    "# sparse.crs_matrix\n",
    "# data, sparse transpose"
   ],
   "cell_type": "markdown",
   "metadata": {}
  },
  {
   "cell_type": "code",
   "execution_count": null,
   "metadata": {},
   "outputs": [],
   "source": [
    "from sklearn.metrics.pairwise import cosine_similarity\n",
    "\n",
    "def calculate_similarity(data_items):\n",
    "    \"\"\"Calculo la similaridad coseno para el par fila-columna de una matriz sparse. \n",
    "    Retorna nuevo DF con similaridades.\n",
    "    \"\"\"\n",
    "    \n",
    "    data_sparse = sparse.csr_matrix(data_items) # Esto solo convierte el dataframe en una matriz rala de scipy. Compress Sparse rows matrix\n",
    "    similarities = cosine_similarity(data_sparse.transpose()) #para devolver similaridad columna columna\n",
    "    sim = pd.DataFrame(data=similarities, index= data_items.columns, columns= data_items.columns)\n",
    "    return sim"
   ]
  },
  {
   "source": [
    "```\n",
    "pairwise dense output:\n",
    "[[ 1.          0.40824829  0.40824829]\n",
    "[ 0.40824829  1.          0.33333333]\n",
    "[ 0.40824829  0.33333333  1.        ]]\n",
    "\n",
    "pairwise sparse output:\n",
    "(0, 1)  0.408248290464\n",
    "(0, 2)  0.408248290464\n",
    "(0, 0)  1.0\n",
    "(1, 0)  0.408248290464\n",
    "(1, 2)  0.333333333333\n",
    "(1, 1)  1.0\n",
    "(2, 1)  0.333333333333\n",
    "(2, 0)  0.408248290464\n",
    "(2, 2)  1.0\n",
    "If you want column-wise cosine similarities simply transpose your input matrix beforehand:\n",
    "\n",
    "A_sparse.transpose()\n",
    "```"
   ],
   "cell_type": "markdown",
   "metadata": {}
  },
  {
   "cell_type": "code",
   "execution_count": null,
   "metadata": {},
   "outputs": [],
   "source": [
    "# Build the similarity matrix\n",
    "data_matrix = calculate_similarity(matriz_utilidad)\n",
    "data_matrix"
   ]
  },
  {
   "cell_type": "markdown",
   "metadata": {},
   "source": [
    "### Peliculas parecidas"
   ]
  },
  {
   "cell_type": "code",
   "execution_count": null,
   "metadata": {},
   "outputs": [],
   "source": [
    "print(data_matrix.loc[\"Being John Malkovich\"].nlargest(25))"
   ]
  },
  {
   "cell_type": "markdown",
   "metadata": {},
   "source": [
    "Vecinos. similares"
   ]
  },
  {
   "cell_type": "markdown",
   "metadata": {},
   "source": [
    "### construir matriz de vecinos\n"
   ]
  },
  {
   "cell_type": "code",
   "execution_count": null,
   "metadata": {
    "scrolled": false
   },
   "outputs": [],
   "source": [
    "data_matrix.loc[:,\"Dogma\"].sort_values(ascending=False)"
   ]
  },
  {
   "source": [],
   "cell_type": "markdown",
   "metadata": {}
  },
  {
   "source": [
    "# matriz vecinos\n",
    "```\n",
    "n_neighbours = 5\n",
    "data_neighbours = pd.DataFrame(index=data_matrix.columns, columns=range(n_neighbours))\n",
    "for column in data_matrix.columns:\n",
    "    data_neighbours.loc[column,:] = data_matrix.loc[:,column].sort_values(ascending=False)[:n_neighbours].index\n",
    "data_neighbours\n",
    "```"
   ],
   "cell_type": "markdown",
   "metadata": {}
  },
  {
   "cell_type": "code",
   "execution_count": null,
   "metadata": {},
   "outputs": [],
   "source": [
    "n_neighbours = 5\n",
    "data_neighbours = pd.DataFrame(index=data_matrix.columns, columns=range(n_neighbours))\n",
    "for column in data_matrix.columns:\n",
    "    data_neighbours.loc[column,:] = data_matrix.loc[:,column].sort_values(ascending=False)[:n_neighbours].index\n",
    "data_neighbours"
   ]
  },
  {
   "cell_type": "markdown",
   "metadata": {},
   "source": [
    "## A partir de Users"
   ]
  },
  {
   "cell_type": "code",
   "execution_count": null,
   "metadata": {},
   "outputs": [],
   "source": [
    "user = np.random.choice(list(matriz_utilidad.index))\n",
    "# user = 1329595  # Descomentar este usuario y ver sus resultados.\n",
    "# user = 1208602  # Descomentar este usuario y ver sus resultados.\n",
    "print(user)\n",
    "df_user = df1[df1.User == user]\n",
    "df_user['Title'] = df_title.loc[df1[df1.User == user].Movie_id]['Name'].values\n",
    "df_user"
   ]
  },
  {
   "cell_type": "markdown",
   "metadata": {},
   "source": [
    "### 1. User_likes\n",
    "\n",
    "Me quedo con las películas que le puso más de 4.\n",
    "\n",
    "Estas son las películas que vio. Tener en cuenta que no hay que recomendarle algo que ya vio"
   ]
  },
  {
   "cell_type": "code",
   "execution_count": null,
   "metadata": {},
   "outputs": [],
   "source": [
    "\n",
    "known_user_likes = df_user['Title'].values\n",
    "known_user_likes = df_user[df_user.Rating > 4]['Title'].values # puedes resolver aqui el ejercicio.\n",
    "known_user_likes"
   ]
  },
  {
   "cell_type": "markdown",
   "metadata": {},
   "source": [
    "### 2. Matriz vecinos con usuarios\n",
    "Utilizo la matriz de vecinos sólo con las películas que vio mi usuario"
   ]
  },
  {
   "cell_type": "code",
   "execution_count": null,
   "metadata": {},
   "outputs": [],
   "source": [
    "most_similar_to_likes = data_neighbours.loc[known_user_likes]\n",
    "most_similar_to_likes"
   ]
  },
  {
   "cell_type": "markdown",
   "metadata": {},
   "source": [
    "### 3. Filtro más similares\n",
    "Las convierto en listaa"
   ]
  },
  {
   "cell_type": "code",
   "execution_count": null,
   "metadata": {},
   "outputs": [],
   "source": [
    "similar_list = most_similar_to_likes.values.tolist()\n",
    "similar_list = list(set([item for sublist in similar_list for item in sublist]))\n",
    "similar_list"
   ]
  },
  {
   "cell_type": "markdown",
   "metadata": {},
   "source": [
    "#### Matriz de utilidad de las calificaciones que vio\n",
    "matriz de utilidad las calificaciones de las películas que vio (que están normalizados) y las de las películas que no vio. Como no las vio, son cero."
   ]
  },
  {
   "cell_type": "code",
   "execution_count": null,
   "metadata": {},
   "outputs": [],
   "source": [
    "user_vector = matriz_utilidad.loc[user].loc[similar_list]\n",
    "user_vector"
   ]
  },
  {
   "cell_type": "markdown",
   "metadata": {},
   "source": [
    "#### Vecinos con lista filtrada\n",
    "\n",
    "Filtro la matriz original por similar list y tengo entonces esas peliculas"
   ]
  },
  {
   "cell_type": "code",
   "execution_count": null,
   "metadata": {},
   "outputs": [],
   "source": [
    "neighbourhood = data_matrix[similar_list].loc[similar_list]\n",
    "neighbourhood"
   ]
  },
  {
   "cell_type": "markdown",
   "metadata": {},
   "source": [
    "#### Producto escalar\n",
    "es el producto escalar de la matriz \"vecindario\" con las calificaciones. \n",
    "devuelvo scores de similaridad"
   ]
  },
  {
   "cell_type": "code",
   "execution_count": null,
   "metadata": {
    "scrolled": true
   },
   "outputs": [],
   "source": [
    "score = neighbourhood.dot(user_vector).div(neighbourhood.sum(axis=1))\n",
    "score"
   ]
  },
  {
   "cell_type": "code",
   "execution_count": null,
   "metadata": {},
   "outputs": [],
   "source": [
    "score = score.drop(known_user_likes)\n",
    "score"
   ]
  },
  {
   "cell_type": "code",
   "execution_count": null,
   "metadata": {},
   "outputs": [],
   "source": [
    "print(known_user_likes)\n",
    "print(score.nlargest(20))"
   ]
  },
  {
   "cell_type": "code",
   "execution_count": 76,
   "metadata": {},
   "outputs": [
    {
     "output_type": "stream",
     "name": "stdout",
     "text": [
      "00:01:18.08\n"
     ]
    }
   ],
   "source": [
    "playsound(figures+\"war.mp3\")\n",
    "gc.collect()\n",
    "\n",
    "end = time.time()\n",
    "hours, rem = divmod(end-start_time, 3600)\n",
    "minutes, seconds = divmod(rem, 60)\n",
    "print(\"{:0>2}:{:0>2}:{:05.2f}\".format(int(hours),int(minutes),seconds))"
   ]
  },
  {
   "cell_type": "code",
   "execution_count": null,
   "metadata": {},
   "outputs": [],
   "source": []
  },
  {
   "cell_type": "code",
   "execution_count": null,
   "metadata": {},
   "outputs": [],
   "source": []
  }
 ],
 "metadata": {
  "kernelspec": {
   "display_name": "Python 3",
   "language": "python",
   "name": "python3"
  },
  "language_info": {
   "codemirror_mode": {
    "name": "ipython",
    "version": 3
   },
   "file_extension": ".py",
   "mimetype": "text/x-python",
   "name": "python",
   "nbconvert_exporter": "python",
   "pygments_lexer": "ipython3",
   "version": "3.7.9-final"
  }
 },
 "nbformat": 4,
 "nbformat_minor": 4
}