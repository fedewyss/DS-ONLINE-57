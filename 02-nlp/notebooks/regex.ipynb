{
 "cells": [
  {
   "cell_type": "markdown",
   "metadata": {},
   "source": [
    "### Para los que lleguen a leer la Diapositivas de la clase o la bitácora\n",
    "\n",
    "¿anotaron el pipeline?\n",
    "¿Que funciones del modulo NLTK se aplica?\n",
    "\n",
    "Recomiendo hacer un txt anotando esos pasos\n",
    "\n",
    "\n",
    "\n",
    "\n",
    "# 1. Repaso + 2. String + 3.Regex\n",
    "\n",
    "\n",
    "## 1. Repaso ¿Todos sabemos que es una List comprehension ? \n",
    " \n",
    "¿Vieron la solución de la clase pasada? Había una carpeta con un notebook explicativo. Acá abajo dejo otra explicación\n",
    "\n"
   ]
  },
  {
   "cell_type": "code",
   "execution_count": 3,
   "metadata": {},
   "outputs": [],
   "source": [
    "import numpy as np"
   ]
  },
  {
   "cell_type": "code",
   "execution_count": 5,
   "metadata": {},
   "outputs": [
    {
     "data": {
      "text/plain": [
       "5"
      ]
     },
     "execution_count": 5,
     "metadata": {},
     "output_type": "execute_result"
    }
   ],
   "source": [
    "np.random.randint(1,16)\n"
   ]
  },
  {
   "cell_type": "code",
   "execution_count": 1,
   "metadata": {},
   "outputs": [],
   "source": [
    "primos = [1, 2, 3, 5, 7]"
   ]
  },
  {
   "cell_type": "code",
   "execution_count": 2,
   "metadata": {},
   "outputs": [
    {
     "name": "stdout",
     "output_type": "stream",
     "text": [
      "1\n",
      "2\n",
      "3\n",
      "5\n",
      "7\n"
     ]
    }
   ],
   "source": [
    "for i in primos:\n",
    "    print(i)"
   ]
  },
  {
   "cell_type": "code",
   "execution_count": 3,
   "metadata": {},
   "outputs": [
    {
     "name": "stdout",
     "output_type": "stream",
     "text": [
      "2\n"
     ]
    }
   ],
   "source": [
    "for i in primos:\n",
    "    if i%2 == 0:\n",
    "        print(i)"
   ]
  },
  {
   "cell_type": "code",
   "execution_count": 4,
   "metadata": {},
   "outputs": [
    {
     "data": {
      "text/plain": [
       "[1, 2, 3, 5, 7]"
      ]
     },
     "execution_count": 4,
     "metadata": {},
     "output_type": "execute_result"
    }
   ],
   "source": [
    "[i for i in primos]"
   ]
  },
  {
   "cell_type": "code",
   "execution_count": 5,
   "metadata": {},
   "outputs": [
    {
     "data": {
      "text/plain": [
       "[2]"
      ]
     },
     "execution_count": 5,
     "metadata": {},
     "output_type": "execute_result"
    }
   ],
   "source": [
    "[i for i in primos if i%2 == 0]"
   ]
  },
  {
   "cell_type": "code",
   "execution_count": 6,
   "metadata": {},
   "outputs": [
    {
     "data": {
      "text/plain": [
       "[1, 2, 3, 5, 7]"
      ]
     },
     "execution_count": 6,
     "metadata": {},
     "output_type": "execute_result"
    }
   ],
   "source": [
    "list(map(lambda x: x, primos))\n"
   ]
  },
  {
   "cell_type": "markdown",
   "metadata": {},
   "source": [
    "# 2. String"
   ]
  },
  {
   "cell_type": "code",
   "execution_count": null,
   "metadata": {},
   "outputs": [],
   "source": [
    "#¿Que es un string?\n",
    "\n",
    "#type()"
   ]
  },
  {
   "cell_type": "code",
   "execution_count": null,
   "metadata": {},
   "outputs": [],
   "source": [
    "#selecciono caracteres"
   ]
  },
  {
   "cell_type": "code",
   "execution_count": null,
   "metadata": {},
   "outputs": [],
   "source": [
    "# seleccino los ultimos 5 caracteres"
   ]
  },
  {
   "cell_type": "code",
   "execution_count": null,
   "metadata": {},
   "outputs": [],
   "source": [
    "# selecciono los caracteres entre las posiciones 5 y 15 (el de \"index=5\" se incluye, el de \"index=15\" se excluye)\n"
   ]
  },
  {
   "cell_type": "markdown",
   "metadata": {},
   "source": [
    "## Operaciones sobre string"
   ]
  },
  {
   "cell_type": "code",
   "execution_count": null,
   "metadata": {},
   "outputs": [],
   "source": [
    "# devolver el largo del string"
   ]
  },
  {
   "cell_type": "code",
   "execution_count": null,
   "metadata": {},
   "outputs": [],
   "source": [
    "# corrobora si esa secuencia esta en el string"
   ]
  },
  {
   "cell_type": "code",
   "execution_count": null,
   "metadata": {},
   "outputs": [],
   "source": [
    "# concatenar strings"
   ]
  },
  {
   "cell_type": "code",
   "execution_count": null,
   "metadata": {},
   "outputs": [],
   "source": [
    "#(el enter se representa con \"\\n\" )"
   ]
  },
  {
   "cell_type": "code",
   "execution_count": null,
   "metadata": {},
   "outputs": [],
   "source": [
    "#print"
   ]
  },
  {
   "cell_type": "code",
   "execution_count": null,
   "metadata": {},
   "outputs": [],
   "source": [
    "# hagan funcionar esto!!\n",
    "\n",
    "string_a = \"esta peli la vi \"\n",
    "n = 100\n",
    "string_b = \" veces\"\n",
    "string_a + n + string_b "
   ]
  },
  {
   "cell_type": "code",
   "execution_count": null,
   "metadata": {},
   "outputs": [],
   "source": [
    "#concatenar la secuencia tres veces\n",
    "\"sopes\""
   ]
  },
  {
   "cell_type": "markdown",
   "metadata": {},
   "source": [
    "# Métodos"
   ]
  },
  {
   "cell_type": "code",
   "execution_count": 7,
   "metadata": {},
   "outputs": [],
   "source": [
    "string = \"Puedo decir que estoy totalmente feliz de estar acá pero no de tener que pagar la factura de gas\""
   ]
  },
  {
   "cell_type": "code",
   "execution_count": null,
   "metadata": {},
   "outputs": [],
   "source": [
    "#¿Cuantos de hay?\n",
    "#.count()\n"
   ]
  },
  {
   "cell_type": "code",
   "execution_count": null,
   "metadata": {},
   "outputs": [],
   "source": [
    "#devolver el menor indice donde aparece el substring\n",
    "#.find()"
   ]
  },
  {
   "cell_type": "code",
   "execution_count": null,
   "metadata": {},
   "outputs": [],
   "source": [
    "#devolver el mayor indice\n",
    "#.rfind()"
   ]
  },
  {
   "cell_type": "code",
   "execution_count": null,
   "metadata": {},
   "outputs": [],
   "source": [
    "#pasar todo a minuscula ¿como se dice minúscula en ingles?"
   ]
  },
  {
   "cell_type": "code",
   "execution_count": null,
   "metadata": {},
   "outputs": [],
   "source": [
    "#pasar todo a mayuscula ¿como se dice mayúscula en ingles?\n"
   ]
  },
  {
   "cell_type": "code",
   "execution_count": null,
   "metadata": {},
   "outputs": [],
   "source": [
    "# Que va a dar esto?\n",
    "print(\"El10\".isalpha())"
   ]
  },
  {
   "cell_type": "code",
   "execution_count": null,
   "metadata": {},
   "outputs": [],
   "source": [
    "print(\"El10\".isalnum())"
   ]
  },
  {
   "cell_type": "code",
   "execution_count": null,
   "metadata": {},
   "outputs": [],
   "source": [
    "print(\"El 10\".isalnum())"
   ]
  },
  {
   "cell_type": "code",
   "execution_count": 6,
   "metadata": {},
   "outputs": [
    {
     "data": {
      "text/plain": [
       "'Puedo decir que estoy totalm...'"
      ]
     },
     "execution_count": 6,
     "metadata": {},
     "output_type": "execute_result"
    }
   ],
   "source": [
    "# .strip() remueve los caracteres \"no deseados\" iniciales y finales. \n",
    "texto = \"\\n\\n\\n Puedo decir que estoy totalm...        \"\n",
    "texto.strip() # Si no se especifica los \"no deseados\" son los espacios en blanco"
   ]
  },
  {
   "cell_type": "code",
   "execution_count": null,
   "metadata": {},
   "outputs": [],
   "source": [
    "texto.strip(\"\\n. \") # se pueden especificar los \"no deseados\""
   ]
  },
  {
   "cell_type": "code",
   "execution_count": 8,
   "metadata": {},
   "outputs": [
    {
     "data": {
      "text/plain": [
       "'Puedo decir que estoy desquisadamente feliz de estar acá pero no de tener que pagar la factura de gas'"
      ]
     },
     "execution_count": 8,
     "metadata": {},
     "output_type": "execute_result"
    }
   ],
   "source": [
    "# devuelve un string con un substring reemplazado por otro  \n",
    "string.replace(\"totalmente\",\"desquisadamente\") # string.replace('old', 'new')"
   ]
  },
  {
   "cell_type": "code",
   "execution_count": null,
   "metadata": {},
   "outputs": [],
   "source": []
  },
  {
   "cell_type": "code",
   "execution_count": null,
   "metadata": {},
   "outputs": [],
   "source": [
    "string.replace(\"o\",\"\") # remueve todas las \"o\""
   ]
  },
  {
   "cell_type": "code",
   "execution_count": 11,
   "metadata": {},
   "outputs": [],
   "source": [
    "string = \"probar\"\n",
    "string2 = \"agregar varias frases\"\n",
    "string3 =  \"Concatenar frases\""
   ]
  },
  {
   "cell_type": "code",
   "execution_count": 12,
   "metadata": {},
   "outputs": [
    {
     "data": {
      "text/plain": [
       "list"
      ]
     },
     "execution_count": 12,
     "metadata": {},
     "output_type": "execute_result"
    }
   ],
   "source": [
    "lista_de_frases = [\"Frases DS-57:\",string,string2,string3] # armo una lista\n",
    "type(lista_de_frases)\n"
   ]
  },
  {
   "cell_type": "code",
   "execution_count": 16,
   "metadata": {},
   "outputs": [
    {
     "data": {
      "text/plain": [
       "['Frases DS-57:', 'probar', 'agregar varias frases', 'Concatenar frases']"
      ]
     },
     "execution_count": 16,
     "metadata": {},
     "output_type": "execute_result"
    }
   ],
   "source": [
    "lista_de_frases"
   ]
  },
  {
   "cell_type": "code",
   "execution_count": 17,
   "metadata": {},
   "outputs": [
    {
     "data": {
      "text/plain": [
       "'Frases DS-57:'"
      ]
     },
     "execution_count": 17,
     "metadata": {},
     "output_type": "execute_result"
    }
   ],
   "source": [
    "lista_de_frases[0] # accedo al elemento 1 de la lista"
   ]
  },
  {
   "cell_type": "code",
   "execution_count": 18,
   "metadata": {},
   "outputs": [
    {
     "data": {
      "text/plain": [
       "'Frases DS-57:\\n\\t- probar\\n\\t- agregar varias frases\\n\\t- Concatenar frases'"
      ]
     },
     "execution_count": 18,
     "metadata": {},
     "output_type": "execute_result"
    }
   ],
   "source": [
    "frases_ds_57 = \"\\n\\t- \".join(lista_de_frases) # concatenacion de una lista de strings\n",
    "frases_ds_57 "
   ]
  },
  {
   "cell_type": "code",
   "execution_count": 19,
   "metadata": {},
   "outputs": [
    {
     "name": "stdout",
     "output_type": "stream",
     "text": [
      "Frases DS-57:\n",
      "\t- probar\n",
      "\t- agregar varias frases\n",
      "\t- Concatenar frases\n"
     ]
    }
   ],
   "source": [
    "print(frases_ds_57)"
   ]
  },
  {
   "cell_type": "code",
   "execution_count": 20,
   "metadata": {},
   "outputs": [
    {
     "data": {
      "text/plain": [
       "['Frases DS-57:', 'probar', 'agregar varias frases', 'Concatenar frases']"
      ]
     },
     "execution_count": 20,
     "metadata": {},
     "output_type": "execute_result"
    }
   ],
   "source": [
    "frases_ds_57.split(\"\\n\\t- \") # Lo opuesto de .join()  (devuelve una lista de strings)"
   ]
  },
  {
   "cell_type": "markdown",
   "metadata": {},
   "source": [
    "## 3. Regex"
   ]
  },
  {
   "cell_type": "markdown",
   "metadata": {},
   "source": [
    "#### para mas métodos ver:  https://docs.python.org/3/library/stdtypes.html#string-methods"
   ]
  },
  {
   "cell_type": "code",
   "execution_count": null,
   "metadata": {},
   "outputs": [],
   "source": [
    "# REGEX\n",
    "### Identificación de patrones, letras, palabras\n",
    "\n",
    "##### \\w: Matchea caracteres alfanuméricos; equivalente a [a-zA-Z0-9_].\n",
    "##### \\W: Matchea caracteres que NO sean alfanuméricos; equivalente a[^a-zA-Z0-9_] o también [^a-zA-Z]\n",
    "\n",
    "\n",
    "##### \\d: Matchea digitos; equivalente a [0-9].\n",
    "##### \\D: Matchea caracteres que NO sean digitos; equivalente a [^0-9].\n",
    "##### \\s: Matchea espacios en blanco; equivalente a [ \\t\\n\\r\\f\\v].\n",
    "##### \\S: Matchea espacios que NO esten en blanco; equivalente a [^ \\t\\n\\r\\f\\v].\n",
    "\n",
    "#####  \".\" : Matchea cualquier caracter excepto '\\n'\n",
    "#####  \"^\" y  \"$\": Matchean el comienzo y el final de un string\n",
    "##### \"[]\": Matchea el set de caracteres que se encuentren dentro de los corchetes (r\"l[ao]s\" machea \"las\" y \"los\")\n",
    "\n",
    "\n",
    "##### a|b: Matchea \"a\" o \"b\"\n",
    "\n",
    "\n",
    "##### Repeticiones:\n",
    "##### \"+\": Matchea 1 o mas ocurrencias\n",
    "##### \"*\": Matchea 0 o mas ocurrencias\n",
    "##### \"?\": Matchea 0 o 1 ocurrencia\n",
    "##### \"{n, m}\": Matchea entre n y m ocurrencias\n",
    "##### \"\\\\\": Permite matchear caracteres especiales\n",
    "##### para más info ver: https://docs.python.org/3.1/library/re.html#re-syntax"
   ]
  },
  {
   "cell_type": "code",
   "execution_count": 21,
   "metadata": {},
   "outputs": [],
   "source": [
    "import re # Librería para trabajar con expresiones regulares\n",
    "import pandas as pd # Librería para trabajar con DataFrames"
   ]
  },
  {
   "cell_type": "code",
   "execution_count": 22,
   "metadata": {},
   "outputs": [],
   "source": [
    "texto = \"\"\"(Buda) 44'49'' Dediqué 3 vidas a meditar.\n",
    "(Tuerca) 44'58'' Sólo tenemos una.\n",
    "(Portón) 45'05'' ¿Usted es Él?\n",
    "(Buda) 45'13'' Así es.\n",
    "(Tuerca) 45'22'' ¿Usted?\n",
    "(Buda) 45'38'' Así es.\n",
    "(Portón) 45'41'' ¿Puede curarme?\n",
    "(Buda) 46' La iluminación sólo ilumina.\n",
    "(Tuerca) 46'11'' Estafador.\n",
    "(Buda) 46'2'' No. Rajen de acá.\n",
    "(Portón) 46'29'' Pero quiero iluminarme.\n",
    "(Buda) 46'33'' Nooo. Rajen de acá o los quemo\"\"\""
   ]
  },
  {
   "cell_type": "code",
   "execution_count": 23,
   "metadata": {},
   "outputs": [
    {
     "name": "stdout",
     "output_type": "stream",
     "text": [
      "(Buda) 44'49'' Dediqué 3 vidas a meditar.\n",
      "(Tuerca) 44'58'' Sólo tenemos una.\n",
      "(Portón) 45'05'' ¿Usted es Él?\n",
      "(Buda) 45'13'' Así es.\n",
      "(Tuerca) 45'22'' ¿Usted?\n",
      "(Buda) 45'38'' Así es.\n",
      "(Portón) 45'41'' ¿Puede curarme?\n",
      "(Buda) 46' La iluminación sólo ilumina.\n",
      "(Tuerca) 46'11'' Estafador.\n",
      "(Buda) 46'2'' No. Rajen de acá.\n",
      "(Portón) 46'29'' Pero quiero iluminarme.\n",
      "(Buda) 46'33'' Nooo. Rajen de acá o los quemo\n"
     ]
    }
   ],
   "source": [
    "print(texto)"
   ]
  },
  {
   "cell_type": "code",
   "execution_count": 24,
   "metadata": {},
   "outputs": [
    {
     "data": {
      "text/plain": [
       "<re.Match object; span=(294, 310), match='No. Rajen de acá'>"
      ]
     },
     "execution_count": 24,
     "metadata": {},
     "output_type": "execute_result"
    }
   ],
   "source": [
    "# re.search() busca el patron de la expresion regular y devuelve un objeto si lo encuentra\n",
    "match = re.search(r\"No\\. Rajen de acá\", texto)\n",
    "match"
   ]
  },
  {
   "cell_type": "code",
   "execution_count": 25,
   "metadata": {},
   "outputs": [
    {
     "name": "stdout",
     "output_type": "stream",
     "text": [
      "El primer matcheo es: No. Rajen de acá\n",
      "El rango de los indices es: (294, 310)\n"
     ]
    }
   ],
   "source": [
    "# el \"if\" testea si re.search() encontró el patrón; \n",
    "# match.group() devuelve el primer matcheo \n",
    "# match.span() el rango de sus indices\n",
    "if match:\n",
    "    print(\"El primer matcheo es:\",match.group())\n",
    "    print(\"El rango de los indices es:\",match.span())\n",
    "else: \n",
    "    print(\"El patron NO esta en el texto\")"
   ]
  },
  {
   "cell_type": "code",
   "execution_count": 29,
   "metadata": {},
   "outputs": [
    {
     "data": {
      "text/plain": [
       "['Nooo. Rajen de acá']"
      ]
     },
     "execution_count": 29,
     "metadata": {},
     "output_type": "execute_result"
    }
   ],
   "source": [
    "# re.findall() devuelve todos los matcheos\n",
    "re.findall(\"No+o\\. Rajen de acá\", texto)"
   ]
  },
  {
   "cell_type": "code",
   "execution_count": 30,
   "metadata": {},
   "outputs": [
    {
     "data": {
      "text/plain": [
       "[\"44'49''\",\n",
       " \"44'58''\",\n",
       " \"45'05''\",\n",
       " \"45'13''\",\n",
       " \"45'22''\",\n",
       " \"45'38''\",\n",
       " \"45'41''\",\n",
       " \"46'11''\",\n",
       " \"46'29''\",\n",
       " \"46'33''\"]"
      ]
     },
     "execution_count": 30,
     "metadata": {},
     "output_type": "execute_result"
    }
   ],
   "source": [
    "# re.findall() devuelve todos los matcheos\n",
    "re.findall(r\"\\d\\d'\\d\\d''\", texto)"
   ]
  },
  {
   "cell_type": "code",
   "execution_count": 31,
   "metadata": {},
   "outputs": [
    {
     "data": {
      "text/plain": [
       "[\"44'49''\",\n",
       " \"44'58''\",\n",
       " \"45'05''\",\n",
       " \"45'13''\",\n",
       " \"45'22''\",\n",
       " \"45'38''\",\n",
       " \"45'41''\",\n",
       " \"46'\",\n",
       " \"46'11''\",\n",
       " \"46'2''\",\n",
       " \"46'29''\",\n",
       " \"46'33''\"]"
      ]
     },
     "execution_count": 31,
     "metadata": {},
     "output_type": "execute_result"
    }
   ],
   "source": [
    "# re.findall() devuelve todos los matcheos\n",
    "re.findall(r\"\\d\\d'\\d{0,2}'{0,2}\", texto)"
   ]
  },
  {
   "cell_type": "code",
   "execution_count": 32,
   "metadata": {},
   "outputs": [
    {
     "data": {
      "text/plain": [
       "['(Buda)',\n",
       " '(Tuerca)',\n",
       " '(Portón)',\n",
       " '(Buda)',\n",
       " '(Tuerca)',\n",
       " '(Buda)',\n",
       " '(Portón)',\n",
       " '(Buda)',\n",
       " '(Tuerca)',\n",
       " '(Buda)',\n",
       " '(Portón)',\n",
       " '(Buda)']"
      ]
     },
     "execution_count": 32,
     "metadata": {},
     "output_type": "execute_result"
    }
   ],
   "source": [
    "re.findall(r\"\\(.*\\)\", texto)"
   ]
  },
  {
   "cell_type": "code",
   "execution_count": 81,
   "metadata": {},
   "outputs": [
    {
     "data": {
      "text/plain": [
       "'('"
      ]
     },
     "execution_count": 81,
     "metadata": {},
     "output_type": "execute_result"
    }
   ],
   "source": [
    "texto[0]"
   ]
  },
  {
   "cell_type": "markdown",
   "metadata": {},
   "source": [
    "# Grupos"
   ]
  },
  {
   "cell_type": "code",
   "execution_count": 33,
   "metadata": {},
   "outputs": [
    {
     "data": {
      "text/plain": [
       "['Buda',\n",
       " 'Tuerca',\n",
       " 'Portón',\n",
       " 'Buda',\n",
       " 'Tuerca',\n",
       " 'Buda',\n",
       " 'Portón',\n",
       " 'Buda',\n",
       " 'Tuerca',\n",
       " 'Buda',\n",
       " 'Portón',\n",
       " 'Buda']"
      ]
     },
     "execution_count": 33,
     "metadata": {},
     "output_type": "execute_result"
    }
   ],
   "source": [
    "# Los paréntesis definen los grupos, que identifican los elementos a devolver\n",
    "re.findall(r\"\\((.*)\\)\", texto)"
   ]
  },
  {
   "cell_type": "code",
   "execution_count": 34,
   "metadata": {},
   "outputs": [
    {
     "data": {
      "text/plain": [
       "['ud', 'ud', 'ud', 'ud', 'ud', 'ud']"
      ]
     },
     "execution_count": 34,
     "metadata": {},
     "output_type": "execute_result"
    }
   ],
   "source": [
    "re.findall(r\"\\(B(.*)a\\)\", texto)"
   ]
  },
  {
   "cell_type": "code",
   "execution_count": 35,
   "metadata": {},
   "outputs": [
    {
     "data": {
      "text/plain": [
       "[('Buda', \"44'49''\", 'Dediqué 3 vidas a meditar.'),\n",
       " ('Tuerca', \"44'58''\", 'Sólo tenemos una.'),\n",
       " ('Portón', \"45'05''\", '¿Usted es Él?'),\n",
       " ('Buda', \"45'13''\", 'Así es.'),\n",
       " ('Tuerca', \"45'22''\", '¿Usted?'),\n",
       " ('Buda', \"45'38''\", 'Así es.'),\n",
       " ('Portón', \"45'41''\", '¿Puede curarme?'),\n",
       " ('Buda', \"46'\", 'La iluminación sólo ilumina.'),\n",
       " ('Tuerca', \"46'11''\", 'Estafador.'),\n",
       " ('Buda', \"46'2''\", 'No. Rajen de acá.'),\n",
       " ('Portón', \"46'29''\", 'Pero quiero iluminarme.'),\n",
       " ('Buda', \"46'33''\", 'Nooo. Rajen de acá o los quemo')]"
      ]
     },
     "execution_count": 35,
     "metadata": {},
     "output_type": "execute_result"
    }
   ],
   "source": [
    "script = re.findall(r\"\\((.*)\\) (\\d\\d'\\d{0,2}'{0,2}) (.*)\", texto)\n",
    "script"
   ]
  },
  {
   "cell_type": "code",
   "execution_count": 36,
   "metadata": {},
   "outputs": [
    {
     "data": {
      "text/html": [
       "<div>\n",
       "<style scoped>\n",
       "    .dataframe tbody tr th:only-of-type {\n",
       "        vertical-align: middle;\n",
       "    }\n",
       "\n",
       "    .dataframe tbody tr th {\n",
       "        vertical-align: top;\n",
       "    }\n",
       "\n",
       "    .dataframe thead th {\n",
       "        text-align: right;\n",
       "    }\n",
       "</style>\n",
       "<table border=\"1\" class=\"dataframe\">\n",
       "  <thead>\n",
       "    <tr style=\"text-align: right;\">\n",
       "      <th></th>\n",
       "      <th>personaje</th>\n",
       "      <th>tiempo</th>\n",
       "      <th>texto</th>\n",
       "    </tr>\n",
       "  </thead>\n",
       "  <tbody>\n",
       "    <tr>\n",
       "      <th>0</th>\n",
       "      <td>Buda</td>\n",
       "      <td>44'49''</td>\n",
       "      <td>Dediqué 3 vidas a meditar.</td>\n",
       "    </tr>\n",
       "    <tr>\n",
       "      <th>1</th>\n",
       "      <td>Tuerca</td>\n",
       "      <td>44'58''</td>\n",
       "      <td>Sólo tenemos una.</td>\n",
       "    </tr>\n",
       "    <tr>\n",
       "      <th>2</th>\n",
       "      <td>Portón</td>\n",
       "      <td>45'05''</td>\n",
       "      <td>¿Usted es Él?</td>\n",
       "    </tr>\n",
       "    <tr>\n",
       "      <th>3</th>\n",
       "      <td>Buda</td>\n",
       "      <td>45'13''</td>\n",
       "      <td>Así es.</td>\n",
       "    </tr>\n",
       "    <tr>\n",
       "      <th>4</th>\n",
       "      <td>Tuerca</td>\n",
       "      <td>45'22''</td>\n",
       "      <td>¿Usted?</td>\n",
       "    </tr>\n",
       "    <tr>\n",
       "      <th>5</th>\n",
       "      <td>Buda</td>\n",
       "      <td>45'38''</td>\n",
       "      <td>Así es.</td>\n",
       "    </tr>\n",
       "    <tr>\n",
       "      <th>6</th>\n",
       "      <td>Portón</td>\n",
       "      <td>45'41''</td>\n",
       "      <td>¿Puede curarme?</td>\n",
       "    </tr>\n",
       "    <tr>\n",
       "      <th>7</th>\n",
       "      <td>Buda</td>\n",
       "      <td>46'</td>\n",
       "      <td>La iluminación sólo ilumina.</td>\n",
       "    </tr>\n",
       "    <tr>\n",
       "      <th>8</th>\n",
       "      <td>Tuerca</td>\n",
       "      <td>46'11''</td>\n",
       "      <td>Estafador.</td>\n",
       "    </tr>\n",
       "    <tr>\n",
       "      <th>9</th>\n",
       "      <td>Buda</td>\n",
       "      <td>46'2''</td>\n",
       "      <td>No. Rajen de acá.</td>\n",
       "    </tr>\n",
       "    <tr>\n",
       "      <th>10</th>\n",
       "      <td>Portón</td>\n",
       "      <td>46'29''</td>\n",
       "      <td>Pero quiero iluminarme.</td>\n",
       "    </tr>\n",
       "    <tr>\n",
       "      <th>11</th>\n",
       "      <td>Buda</td>\n",
       "      <td>46'33''</td>\n",
       "      <td>Nooo. Rajen de acá o los quemo</td>\n",
       "    </tr>\n",
       "  </tbody>\n",
       "</table>\n",
       "</div>"
      ],
      "text/plain": [
       "   personaje   tiempo                           texto\n",
       "0       Buda  44'49''      Dediqué 3 vidas a meditar.\n",
       "1     Tuerca  44'58''               Sólo tenemos una.\n",
       "2     Portón  45'05''                   ¿Usted es Él?\n",
       "3       Buda  45'13''                         Así es.\n",
       "4     Tuerca  45'22''                         ¿Usted?\n",
       "5       Buda  45'38''                         Así es.\n",
       "6     Portón  45'41''                 ¿Puede curarme?\n",
       "7       Buda      46'    La iluminación sólo ilumina.\n",
       "8     Tuerca  46'11''                      Estafador.\n",
       "9       Buda   46'2''               No. Rajen de acá.\n",
       "10    Portón  46'29''         Pero quiero iluminarme.\n",
       "11      Buda  46'33''  Nooo. Rajen de acá o los quemo"
      ]
     },
     "execution_count": 36,
     "metadata": {},
     "output_type": "execute_result"
    }
   ],
   "source": [
    "df = pd.DataFrame(script) # Dataframe de pandas\n",
    "df.columns = [\"personaje\",\"tiempo\",\"texto\"]\n",
    "df"
   ]
  },
  {
   "cell_type": "code",
   "execution_count": 37,
   "metadata": {},
   "outputs": [
    {
     "data": {
      "text/html": [
       "<div>\n",
       "<style scoped>\n",
       "    .dataframe tbody tr th:only-of-type {\n",
       "        vertical-align: middle;\n",
       "    }\n",
       "\n",
       "    .dataframe tbody tr th {\n",
       "        vertical-align: top;\n",
       "    }\n",
       "\n",
       "    .dataframe thead th {\n",
       "        text-align: right;\n",
       "    }\n",
       "</style>\n",
       "<table border=\"1\" class=\"dataframe\">\n",
       "  <thead>\n",
       "    <tr style=\"text-align: right;\">\n",
       "      <th></th>\n",
       "      <th>personaje</th>\n",
       "      <th>tiempo</th>\n",
       "      <th>texto</th>\n",
       "    </tr>\n",
       "  </thead>\n",
       "  <tbody>\n",
       "    <tr>\n",
       "      <th>0</th>\n",
       "      <td>Buda</td>\n",
       "      <td>44'49''</td>\n",
       "      <td>Dediqué 3 vidas a meditar.</td>\n",
       "    </tr>\n",
       "    <tr>\n",
       "      <th>3</th>\n",
       "      <td>Buda</td>\n",
       "      <td>45'13''</td>\n",
       "      <td>Así es.</td>\n",
       "    </tr>\n",
       "    <tr>\n",
       "      <th>5</th>\n",
       "      <td>Buda</td>\n",
       "      <td>45'38''</td>\n",
       "      <td>Así es.</td>\n",
       "    </tr>\n",
       "    <tr>\n",
       "      <th>7</th>\n",
       "      <td>Buda</td>\n",
       "      <td>46'</td>\n",
       "      <td>La iluminación sólo ilumina.</td>\n",
       "    </tr>\n",
       "    <tr>\n",
       "      <th>9</th>\n",
       "      <td>Buda</td>\n",
       "      <td>46'2''</td>\n",
       "      <td>No. Rajen de acá.</td>\n",
       "    </tr>\n",
       "    <tr>\n",
       "      <th>11</th>\n",
       "      <td>Buda</td>\n",
       "      <td>46'33''</td>\n",
       "      <td>Nooo. Rajen de acá o los quemo</td>\n",
       "    </tr>\n",
       "  </tbody>\n",
       "</table>\n",
       "</div>"
      ],
      "text/plain": [
       "   personaje   tiempo                           texto\n",
       "0       Buda  44'49''      Dediqué 3 vidas a meditar.\n",
       "3       Buda  45'13''                         Así es.\n",
       "5       Buda  45'38''                         Así es.\n",
       "7       Buda      46'    La iluminación sólo ilumina.\n",
       "9       Buda   46'2''               No. Rajen de acá.\n",
       "11      Buda  46'33''  Nooo. Rajen de acá o los quemo"
      ]
     },
     "execution_count": 37,
     "metadata": {},
     "output_type": "execute_result"
    }
   ],
   "source": [
    "df[df[\"personaje\"] == \"Buda\"] # Pandas continuará..."
   ]
  },
  {
   "cell_type": "code",
   "execution_count": 38,
   "metadata": {},
   "outputs": [
    {
     "data": {
      "text/plain": [
       "[['Buda', '44', '49', 'Dediqué 3 vidas a meditar.', (0, 41)],\n",
       " ['Tuerca', '44', '58', 'Sólo tenemos una.', (42, 76)],\n",
       " ['Portón', '45', '05', '¿Usted es Él?', (77, 107)],\n",
       " ['Buda', '45', '13', 'Así es.', (108, 130)],\n",
       " ['Tuerca', '45', '22', '¿Usted?', (131, 155)],\n",
       " ['Buda', '45', '38', 'Así es.', (156, 178)],\n",
       " ['Portón', '45', '41', '¿Puede curarme?', (179, 211)],\n",
       " ['Buda', '46', '', 'La iluminación sólo ilumina.', (212, 251)],\n",
       " ['Tuerca', '46', '11', 'Estafador.', (252, 279)],\n",
       " ['Buda', '46', '2', 'No. Rajen de acá.', (280, 311)],\n",
       " ['Portón', '46', '29', 'Pero quiero iluminarme.', (312, 352)],\n",
       " ['Buda', '46', '33', 'Nooo. Rajen de acá o los quemo', (353, 398)]]"
      ]
     },
     "execution_count": 38,
     "metadata": {},
     "output_type": "execute_result"
    }
   ],
   "source": [
    "# re.finditer(pattern, string) devuelve un iterador de MatchObjects\n",
    "script_iterator = re.finditer(r\"\\((.*)\\) (\\d\\d'\\d{0,2}'{0,2}) (.*)\", texto)\n",
    "scripts = []\n",
    "for match in script_iterator:\n",
    "    g1 = match.group(1)\n",
    "    g2_min = match.group(2).split(\"'\")[0] #  \"46'33''\".split(\"'\") -> ['46', '33', '', '']\n",
    "    g2_seg = match.group(2).split(\"'\")[1]\n",
    "    g3 = match.group(3)\n",
    "    span = match.span()\n",
    "    scripts.append([g1,g2_min,g2_seg,g3,span])\n",
    "\n",
    "scripts"
   ]
  },
  {
   "cell_type": "code",
   "execution_count": 39,
   "metadata": {},
   "outputs": [
    {
     "data": {
      "text/html": [
       "<div>\n",
       "<style scoped>\n",
       "    .dataframe tbody tr th:only-of-type {\n",
       "        vertical-align: middle;\n",
       "    }\n",
       "\n",
       "    .dataframe tbody tr th {\n",
       "        vertical-align: top;\n",
       "    }\n",
       "\n",
       "    .dataframe thead th {\n",
       "        text-align: right;\n",
       "    }\n",
       "</style>\n",
       "<table border=\"1\" class=\"dataframe\">\n",
       "  <thead>\n",
       "    <tr style=\"text-align: right;\">\n",
       "      <th></th>\n",
       "      <th>personaje</th>\n",
       "      <th>min</th>\n",
       "      <th>seg</th>\n",
       "      <th>texto</th>\n",
       "      <th>indices</th>\n",
       "    </tr>\n",
       "  </thead>\n",
       "  <tbody>\n",
       "    <tr>\n",
       "      <th>0</th>\n",
       "      <td>Buda</td>\n",
       "      <td>44</td>\n",
       "      <td>49</td>\n",
       "      <td>Dediqué 3 vidas a meditar.</td>\n",
       "      <td>(0, 41)</td>\n",
       "    </tr>\n",
       "    <tr>\n",
       "      <th>1</th>\n",
       "      <td>Tuerca</td>\n",
       "      <td>44</td>\n",
       "      <td>58</td>\n",
       "      <td>Sólo tenemos una.</td>\n",
       "      <td>(42, 76)</td>\n",
       "    </tr>\n",
       "    <tr>\n",
       "      <th>2</th>\n",
       "      <td>Portón</td>\n",
       "      <td>45</td>\n",
       "      <td>05</td>\n",
       "      <td>¿Usted es Él?</td>\n",
       "      <td>(77, 107)</td>\n",
       "    </tr>\n",
       "    <tr>\n",
       "      <th>3</th>\n",
       "      <td>Buda</td>\n",
       "      <td>45</td>\n",
       "      <td>13</td>\n",
       "      <td>Así es.</td>\n",
       "      <td>(108, 130)</td>\n",
       "    </tr>\n",
       "    <tr>\n",
       "      <th>4</th>\n",
       "      <td>Tuerca</td>\n",
       "      <td>45</td>\n",
       "      <td>22</td>\n",
       "      <td>¿Usted?</td>\n",
       "      <td>(131, 155)</td>\n",
       "    </tr>\n",
       "    <tr>\n",
       "      <th>5</th>\n",
       "      <td>Buda</td>\n",
       "      <td>45</td>\n",
       "      <td>38</td>\n",
       "      <td>Así es.</td>\n",
       "      <td>(156, 178)</td>\n",
       "    </tr>\n",
       "    <tr>\n",
       "      <th>6</th>\n",
       "      <td>Portón</td>\n",
       "      <td>45</td>\n",
       "      <td>41</td>\n",
       "      <td>¿Puede curarme?</td>\n",
       "      <td>(179, 211)</td>\n",
       "    </tr>\n",
       "    <tr>\n",
       "      <th>7</th>\n",
       "      <td>Buda</td>\n",
       "      <td>46</td>\n",
       "      <td></td>\n",
       "      <td>La iluminación sólo ilumina.</td>\n",
       "      <td>(212, 251)</td>\n",
       "    </tr>\n",
       "    <tr>\n",
       "      <th>8</th>\n",
       "      <td>Tuerca</td>\n",
       "      <td>46</td>\n",
       "      <td>11</td>\n",
       "      <td>Estafador.</td>\n",
       "      <td>(252, 279)</td>\n",
       "    </tr>\n",
       "    <tr>\n",
       "      <th>9</th>\n",
       "      <td>Buda</td>\n",
       "      <td>46</td>\n",
       "      <td>2</td>\n",
       "      <td>No. Rajen de acá.</td>\n",
       "      <td>(280, 311)</td>\n",
       "    </tr>\n",
       "    <tr>\n",
       "      <th>10</th>\n",
       "      <td>Portón</td>\n",
       "      <td>46</td>\n",
       "      <td>29</td>\n",
       "      <td>Pero quiero iluminarme.</td>\n",
       "      <td>(312, 352)</td>\n",
       "    </tr>\n",
       "    <tr>\n",
       "      <th>11</th>\n",
       "      <td>Buda</td>\n",
       "      <td>46</td>\n",
       "      <td>33</td>\n",
       "      <td>Nooo. Rajen de acá o los quemo</td>\n",
       "      <td>(353, 398)</td>\n",
       "    </tr>\n",
       "  </tbody>\n",
       "</table>\n",
       "</div>"
      ],
      "text/plain": [
       "   personaje min seg                           texto     indices\n",
       "0       Buda  44  49      Dediqué 3 vidas a meditar.     (0, 41)\n",
       "1     Tuerca  44  58               Sólo tenemos una.    (42, 76)\n",
       "2     Portón  45  05                   ¿Usted es Él?   (77, 107)\n",
       "3       Buda  45  13                         Así es.  (108, 130)\n",
       "4     Tuerca  45  22                         ¿Usted?  (131, 155)\n",
       "5       Buda  45  38                         Así es.  (156, 178)\n",
       "6     Portón  45  41                 ¿Puede curarme?  (179, 211)\n",
       "7       Buda  46        La iluminación sólo ilumina.  (212, 251)\n",
       "8     Tuerca  46  11                      Estafador.  (252, 279)\n",
       "9       Buda  46   2               No. Rajen de acá.  (280, 311)\n",
       "10    Portón  46  29         Pero quiero iluminarme.  (312, 352)\n",
       "11      Buda  46  33  Nooo. Rajen de acá o los quemo  (353, 398)"
      ]
     },
     "execution_count": 39,
     "metadata": {},
     "output_type": "execute_result"
    }
   ],
   "source": [
    "df_scripts = pd.DataFrame(scripts)\n",
    "df_scripts.columns = [\"personaje\",\"min\",\"seg\",\"texto\",\"indices\"]\n",
    "df_scripts"
   ]
  },
  {
   "cell_type": "markdown",
   "metadata": {},
   "source": [
    "# Identificar el hablante"
   ]
  },
  {
   "cell_type": "code",
   "execution_count": 90,
   "metadata": {},
   "outputs": [
    {
     "data": {
      "text/plain": [
       "[\"(Tuerca) 44'58''\",\n",
       " \"(Portón) 45'05''\",\n",
       " \"(Tuerca) 45'22''\",\n",
       " \"(Portón) 45'41''\",\n",
       " \"(Tuerca) 46'11''\",\n",
       " \"(Portón) 46'29''\"]"
      ]
     },
     "execution_count": 90,
     "metadata": {},
     "output_type": "execute_result"
    }
   ],
   "source": [
    "# (?:...) No identifica el contenido del parentesis con un grupo\n",
    "re.findall(r\"\\((?:Tuerca|Portón)\\) \\d\\d'\\d{0,2}'{0,2}\",texto)"
   ]
  },
  {
   "cell_type": "markdown",
   "metadata": {},
   "source": [
    "### eliminar parentensis"
   ]
  },
  {
   "cell_type": "code",
   "execution_count": 91,
   "metadata": {},
   "outputs": [
    {
     "name": "stdout",
     "output_type": "stream",
     "text": [
      "Buda: Dediqué 3 vidas a meditar.\n",
      "Tuerca: Sólo tenemos una.\n",
      "Portón: ¿Usted es Él?\n",
      "Buda: Así es.\n",
      "Tuerca: ¿Usted?\n",
      "Buda: Así es.\n",
      "Portón: ¿Puede curarme?\n",
      "Buda: La iluminación sólo ilumina.\n",
      "Tuerca: Estafador.\n",
      "Buda: No. Rajen de acá.\n",
      "Portón: Pero quiero iluminarme.\n",
      "Buda: Nooo. Rajen de acá o los quemo\n"
     ]
    }
   ],
   "source": [
    "new_text = re.sub(r\"\\((.*)\\) (\\d\\d'\\d{0,2}'{0,2}) (.*)\",\"\\g<1>: \\g<3>\",texto)\n",
    "print(new_text)"
   ]
  },
  {
   "cell_type": "markdown",
   "metadata": {},
   "source": [
    "### Cambiar todo el texto de un personaje"
   ]
  },
  {
   "cell_type": "code",
   "execution_count": 92,
   "metadata": {},
   "outputs": [
    {
     "name": "stdout",
     "output_type": "stream",
     "text": [
      "Buda: PALABRAS BUDISTAS\n",
      "Tuerca: Sólo tenemos una.\n",
      "Portón: ¿Usted es Él?\n",
      "Buda: PALABRAS BUDISTAS\n",
      "Tuerca: ¿Usted?\n",
      "Buda: PALABRAS BUDISTAS\n",
      "Portón: ¿Puede curarme?\n",
      "Buda: PALABRAS BUDISTAS\n",
      "Tuerca: Estafador.\n",
      "Buda: PALABRAS BUDISTAS\n",
      "Portón: Pero quiero iluminarme.\n",
      "Buda: PALABRAS BUDISTAS\n"
     ]
    }
   ],
   "source": [
    "# machea si es precedido por un match de (?<=...)\n",
    "print(re.sub(r\"(?<=Buda:).*\",\" PALABRAS BUDISTAS\",new_text))"
   ]
  },
  {
   "cell_type": "markdown",
   "metadata": {},
   "source": [
    "### solo quedarme con los textos"
   ]
  },
  {
   "cell_type": "code",
   "execution_count": 93,
   "metadata": {},
   "outputs": [
    {
     "data": {
      "text/plain": [
       "['Dediqué 3 vidas a meditar.',\n",
       " 'Sólo tenemos una.',\n",
       " '¿Usted es Él?',\n",
       " 'Así es.',\n",
       " '¿Usted?',\n",
       " 'Así es.',\n",
       " '¿Puede curarme?',\n",
       " 'La iluminación sólo ilumina.',\n",
       " 'Estafador.',\n",
       " 'No. Rajen de acá.',\n",
       " 'Pero quiero iluminarme.']"
      ]
     },
     "execution_count": 93,
     "metadata": {},
     "output_type": "execute_result"
    }
   ],
   "source": [
    "# machea si aparece antes de (?=...)\n",
    "re.findall(r\"(?<=: ).*(?=\\n)\",new_text)"
   ]
  },
  {
   "cell_type": "markdown",
   "metadata": {},
   "source": [
    "## Greedy vs Non Greedy"
   ]
  },
  {
   "cell_type": "code",
   "execution_count": 94,
   "metadata": {},
   "outputs": [
    {
     "data": {
      "text/plain": [
       "'Dediqué 3 vidas a meditar. Sólo tenemos una. ¿Usted es Él? Así es. ¿Usted? Así es. ¿Puede curarme? La iluminación sólo ilumina. Estafador. No. Rajen de acá. Pero quiero iluminarme.'"
      ]
     },
     "execution_count": 94,
     "metadata": {},
     "output_type": "execute_result"
    }
   ],
   "source": [
    "textos = \" \".join(re.findall(r\"(?<=: ).*(?=\\n)\",new_text))\n",
    "textos"
   ]
  },
  {
   "cell_type": "code",
   "execution_count": 95,
   "metadata": {},
   "outputs": [
    {
     "data": {
      "text/plain": [
       "['¿Usted es Él? Así es. ¿Usted? Así es. ¿Puede curarme?']"
      ]
     },
     "execution_count": 95,
     "metadata": {},
     "output_type": "execute_result"
    }
   ],
   "source": [
    "# quiero extraer todas las preguntas\n",
    "re.findall(r\"\\¿.*\\?\",textos)"
   ]
  },
  {
   "cell_type": "markdown",
   "metadata": {},
   "source": [
    "###  Los caracteres especiales **+** y  **\\***  machean el patron mas largo posible ( se dice que **+** y  **\\*** son \"greedy\")\n",
    "### para que sean non-greedy se le agrega un \"?\" a la derecha => \"*?\" "
   ]
  },
  {
   "cell_type": "code",
   "execution_count": 96,
   "metadata": {},
   "outputs": [
    {
     "data": {
      "text/plain": [
       "['¿Usted es Él? Así es. ¿Usted? Así es. ¿Puede curarme?']"
      ]
     },
     "execution_count": 96,
     "metadata": {},
     "output_type": "execute_result"
    }
   ],
   "source": [
    "# quiero extraer todas las preguntas\n",
    "re.findall(r\"\\¿.*\\?\",textos)"
   ]
  },
  {
   "cell_type": "markdown",
   "metadata": {},
   "source": [
    "# remplazar patrones"
   ]
  },
  {
   "cell_type": "code",
   "execution_count": 98,
   "metadata": {},
   "outputs": [
    {
     "name": "stdout",
     "output_type": "stream",
     "text": [
      "(Buda) 44'49'' Dediqué 3 vidas a meditar.\n",
      "(Tuerca) 44'58'' Sóla tenemas una.\n",
      "(Partón) 45'05'' ¿Usted es Él?\n",
      "(Buda) 45'13'' Así es.\n",
      "(Tuerca) 45'22'' ¿Usted?\n",
      "(Buda) 45'38'' Así es.\n",
      "(Partón) 45'41'' ¿Puede curarme?\n",
      "(Buda) 46' La iluminación sóla ilumina.\n",
      "(Tuerca) 46'11'' Estafadar.\n",
      "(Buda) 46'2'' Na. Rajen de acá.\n",
      "(Partón) 46'29'' Pera quiera iluminarme.\n",
      "(Buda) 46'33'' Na. Rajen de acá a las quema\n"
     ]
    }
   ],
   "source": [
    "# re.sub(patron, remplazo, string)\n",
    "# devuelve el string con el patron reemplazado \n",
    "textos = re.sub(r\"o+\",\"a\",texto)\n",
    "print(textos)"
   ]
  },
  {
   "cell_type": "markdown",
   "metadata": {},
   "source": [
    "# Tokenizar"
   ]
  },
  {
   "cell_type": "code",
   "execution_count": 100,
   "metadata": {},
   "outputs": [
    {
     "name": "stdout",
     "output_type": "stream",
     "text": [
      "hay 73 tokens\n"
     ]
    }
   ],
   "source": [
    "tokens = re.split(r\"\\W+\",textos)\n",
    "print(\"hay\",len(tokens),\"tokens\")\n"
   ]
  },
  {
   "cell_type": "code",
   "execution_count": 101,
   "metadata": {},
   "outputs": [
    {
     "data": {
      "text/plain": [
       "['',\n",
       " 'Buda',\n",
       " '44',\n",
       " '49',\n",
       " 'Dediqué',\n",
       " '3',\n",
       " 'vidas',\n",
       " 'a',\n",
       " 'meditar',\n",
       " 'Tuerca',\n",
       " '44',\n",
       " '58',\n",
       " 'Sóla',\n",
       " 'tenemas',\n",
       " 'una',\n",
       " 'Partón',\n",
       " '45',\n",
       " '05',\n",
       " 'Usted',\n",
       " 'es',\n",
       " 'Él',\n",
       " 'Buda',\n",
       " '45',\n",
       " '13',\n",
       " 'Así',\n",
       " 'es',\n",
       " 'Tuerca',\n",
       " '45',\n",
       " '22',\n",
       " 'Usted',\n",
       " 'Buda',\n",
       " '45',\n",
       " '38',\n",
       " 'Así',\n",
       " 'es',\n",
       " 'Partón',\n",
       " '45',\n",
       " '41',\n",
       " 'Puede',\n",
       " 'curarme',\n",
       " 'Buda',\n",
       " '46',\n",
       " 'La',\n",
       " 'iluminación',\n",
       " 'sóla',\n",
       " 'ilumina',\n",
       " 'Tuerca',\n",
       " '46',\n",
       " '11',\n",
       " 'Estafadar',\n",
       " 'Buda',\n",
       " '46',\n",
       " '2',\n",
       " 'Na',\n",
       " 'Rajen',\n",
       " 'de',\n",
       " 'acá',\n",
       " 'Partón',\n",
       " '46',\n",
       " '29',\n",
       " 'Pera',\n",
       " 'quiera',\n",
       " 'iluminarme',\n",
       " 'Buda',\n",
       " '46',\n",
       " '33',\n",
       " 'Na',\n",
       " 'Rajen',\n",
       " 'de',\n",
       " 'acá',\n",
       " 'a',\n",
       " 'las',\n",
       " 'quema']"
      ]
     },
     "execution_count": 101,
     "metadata": {},
     "output_type": "execute_result"
    }
   ],
   "source": [
    "tokens"
   ]
  },
  {
   "cell_type": "code",
   "execution_count": 102,
   "metadata": {},
   "outputs": [
    {
     "data": {
      "text/plain": [
       "Buda      6\n",
       "45        5\n",
       "46        5\n",
       "Partón    3\n",
       "Tuerca    3\n",
       "es        3\n",
       "acá       2\n",
       "Usted     2\n",
       "a         2\n",
       "Rajen     2\n",
       "dtype: int64"
      ]
     },
     "execution_count": 102,
     "metadata": {},
     "output_type": "execute_result"
    }
   ],
   "source": [
    "pd.Series(tokens).value_counts().head(10)"
   ]
  }
 ],
 "metadata": {
  "kernelspec": {
   "display_name": "Python 3",
   "language": "python",
   "name": "python3"
  },
  "language_info": {
   "codemirror_mode": {
    "name": "ipython",
    "version": 3
   },
   "file_extension": ".py",
   "mimetype": "text/x-python",
   "name": "python",
   "nbconvert_exporter": "python",
   "pygments_lexer": "ipython3",
   "version": "3.7.9"
  }
 },
 "nbformat": 4,
 "nbformat_minor": 2
}
